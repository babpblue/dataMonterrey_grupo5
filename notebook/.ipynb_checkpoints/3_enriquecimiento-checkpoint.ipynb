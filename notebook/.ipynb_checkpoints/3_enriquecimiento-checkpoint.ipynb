{
 "cells": [
  {
   "cell_type": "code",
   "execution_count": 3,
   "id": "a44b77c9-0ada-4c8e-9e11-cf78b95783d4",
   "metadata": {
    "tags": []
   },
   "outputs": [],
   "source": [
    "%matplotlib inline\n",
    "import pandas as pd"
   ]
  },
  {
   "cell_type": "code",
   "execution_count": 6,
   "id": "ec2cb8bd-d35a-46b8-bdea-8e41d30debb6",
   "metadata": {
    "tags": []
   },
   "outputs": [],
   "source": [
    "compras_df = pd.read_csv('../data/clean_compras.csv')"
   ]
  },
  {
   "cell_type": "code",
   "execution_count": 9,
   "id": "938624bf-9c4e-4a35-a592-ae7febd2b7f8",
   "metadata": {
    "tags": []
   },
   "outputs": [
    {
     "data": {
      "text/html": [
       "<div>\n",
       "<style scoped>\n",
       "    .dataframe tbody tr th:only-of-type {\n",
       "        vertical-align: middle;\n",
       "    }\n",
       "\n",
       "    .dataframe tbody tr th {\n",
       "        vertical-align: top;\n",
       "    }\n",
       "\n",
       "    .dataframe thead th {\n",
       "        text-align: right;\n",
       "    }\n",
       "</style>\n",
       "<table border=\"1\" class=\"dataframe\">\n",
       "  <thead>\n",
       "    <tr style=\"text-align: right;\">\n",
       "      <th></th>\n",
       "      <th>PROV</th>\n",
       "      <th>BENEFICIARIO</th>\n",
       "      <th>RFC</th>\n",
       "      <th>NUM FACT</th>\n",
       "      <th>CONTRATO</th>\n",
       "      <th>DESCRIPCION</th>\n",
       "      <th>TIPO OP</th>\n",
       "      <th>BCO-OP</th>\n",
       "      <th>FECH EMI</th>\n",
       "      <th>IMPORTE</th>\n",
       "      <th>SHEET</th>\n",
       "    </tr>\n",
       "  </thead>\n",
       "  <tbody>\n",
       "    <tr>\n",
       "      <th>0</th>\n",
       "      <td>123629</td>\n",
       "      <td>PAVIMENTACIONES, CAMINOS Y COMPACTACIONES, S.A...</td>\n",
       "      <td>PCC890216TG1</td>\n",
       "      <td>B4668</td>\n",
       "      <td>SOP/697/2016</td>\n",
       "      <td>EJE RP-2016 (GONZALITOS) EST. 18E OP-R23-01/16...</td>\n",
       "      <td>TR</td>\n",
       "      <td>225000024.0</td>\n",
       "      <td>2017-01-09 00:00:00</td>\n",
       "      <td>7859725.14</td>\n",
       "      <td>CONTRATISTAS</td>\n",
       "    </tr>\n",
       "    <tr>\n",
       "      <th>1</th>\n",
       "      <td>123629</td>\n",
       "      <td>PAVIMENTACIONES, CAMINOS Y COMPACTACIONES, S.A...</td>\n",
       "      <td>PCC890216TG1</td>\n",
       "      <td>B4669</td>\n",
       "      <td>SOP/697/2016</td>\n",
       "      <td>EJE RP-2016 (AV. ALMAZAN, AV. AARON SAENZ Y AV...</td>\n",
       "      <td>TR</td>\n",
       "      <td>225000024.0</td>\n",
       "      <td>2017-01-09 00:00:00</td>\n",
       "      <td>3152852.45</td>\n",
       "      <td>CONTRATISTAS</td>\n",
       "    </tr>\n",
       "    <tr>\n",
       "      <th>2</th>\n",
       "      <td>123629</td>\n",
       "      <td>PAVIMENTACIONES, CAMINOS Y COMPACTACIONES, S.A...</td>\n",
       "      <td>PCC890216TG1</td>\n",
       "      <td>B4725</td>\n",
       "      <td>SOP/697/2016</td>\n",
       "      <td>EJE RP-2016 (AV. ALMAZAN, AV. AARON SAENZ Y AV...</td>\n",
       "      <td>TR</td>\n",
       "      <td>225000024.0</td>\n",
       "      <td>2017-01-09 00:00:00</td>\n",
       "      <td>8763325.29</td>\n",
       "      <td>CONTRATISTAS</td>\n",
       "    </tr>\n",
       "    <tr>\n",
       "      <th>3</th>\n",
       "      <td>123629</td>\n",
       "      <td>PAVIMENTACIONES, CAMINOS Y COMPACTACIONES, S.A...</td>\n",
       "      <td>PCC890216TG1</td>\n",
       "      <td>B4734</td>\n",
       "      <td>SOP/697/2016</td>\n",
       "      <td>EJE RE-FDO-DES-MCIPAL-2016 (AV. FIDEL VELAZQUE...</td>\n",
       "      <td>TR</td>\n",
       "      <td>229000030.0</td>\n",
       "      <td>2017-01-09 00:00:00</td>\n",
       "      <td>1842839.12</td>\n",
       "      <td>CONTRATISTAS</td>\n",
       "    </tr>\n",
       "    <tr>\n",
       "      <th>4</th>\n",
       "      <td>123629</td>\n",
       "      <td>PAVIMENTACIONES, CAMINOS Y COMPACTACIONES, S.A...</td>\n",
       "      <td>PCC890216TG1</td>\n",
       "      <td>B4735</td>\n",
       "      <td>SOP/697/2016</td>\n",
       "      <td>EJE R23-2016 (PROG-REG) EST. 21E OP-R23-01/16-...</td>\n",
       "      <td>TR</td>\n",
       "      <td>239000001.0</td>\n",
       "      <td>2017-01-09 00:00:00</td>\n",
       "      <td>2281374.75</td>\n",
       "      <td>CONTRATISTAS</td>\n",
       "    </tr>\n",
       "  </tbody>\n",
       "</table>\n",
       "</div>"
      ],
      "text/plain": [
       "     PROV                                       BENEFICIARIO           RFC  \\\n",
       "0  123629  PAVIMENTACIONES, CAMINOS Y COMPACTACIONES, S.A...  PCC890216TG1   \n",
       "1  123629  PAVIMENTACIONES, CAMINOS Y COMPACTACIONES, S.A...  PCC890216TG1   \n",
       "2  123629  PAVIMENTACIONES, CAMINOS Y COMPACTACIONES, S.A...  PCC890216TG1   \n",
       "3  123629  PAVIMENTACIONES, CAMINOS Y COMPACTACIONES, S.A...  PCC890216TG1   \n",
       "4  123629  PAVIMENTACIONES, CAMINOS Y COMPACTACIONES, S.A...  PCC890216TG1   \n",
       "\n",
       "  NUM FACT      CONTRATO                                        DESCRIPCION  \\\n",
       "0    B4668  SOP/697/2016  EJE RP-2016 (GONZALITOS) EST. 18E OP-R23-01/16...   \n",
       "1    B4669  SOP/697/2016  EJE RP-2016 (AV. ALMAZAN, AV. AARON SAENZ Y AV...   \n",
       "2    B4725  SOP/697/2016  EJE RP-2016 (AV. ALMAZAN, AV. AARON SAENZ Y AV...   \n",
       "3    B4734  SOP/697/2016  EJE RE-FDO-DES-MCIPAL-2016 (AV. FIDEL VELAZQUE...   \n",
       "4    B4735  SOP/697/2016  EJE R23-2016 (PROG-REG) EST. 21E OP-R23-01/16-...   \n",
       "\n",
       "  TIPO OP       BCO-OP             FECH EMI     IMPORTE         SHEET  \n",
       "0      TR  225000024.0  2017-01-09 00:00:00  7859725.14  CONTRATISTAS  \n",
       "1      TR  225000024.0  2017-01-09 00:00:00  3152852.45  CONTRATISTAS  \n",
       "2      TR  225000024.0  2017-01-09 00:00:00  8763325.29  CONTRATISTAS  \n",
       "3      TR  229000030.0  2017-01-09 00:00:00  1842839.12  CONTRATISTAS  \n",
       "4      TR  239000001.0  2017-01-09 00:00:00  2281374.75  CONTRATISTAS  "
      ]
     },
     "execution_count": 9,
     "metadata": {},
     "output_type": "execute_result"
    }
   ],
   "source": [
    "compras_df.head(5)"
   ]
  },
  {
   "cell_type": "code",
   "execution_count": 14,
   "id": "ef705d36-1d0c-4de6-93cf-dfb3fbd8ce2c",
   "metadata": {
    "tags": []
   },
   "outputs": [
    {
     "data": {
      "text/plain": [
       "PROV              int64\n",
       "BENEFICIARIO     object\n",
       "RFC              object\n",
       "NUM FACT         object\n",
       "CONTRATO         object\n",
       "DESCRIPCION      object\n",
       "TIPO OP          object\n",
       "BCO-OP          float64\n",
       "FECH EMI         object\n",
       "IMPORTE         float64\n",
       "SHEET            object\n",
       "dtype: object"
      ]
     },
     "execution_count": 14,
     "metadata": {},
     "output_type": "execute_result"
    }
   ],
   "source": [
    "compras_df.dtypes"
   ]
  },
  {
   "cell_type": "code",
   "execution_count": 20,
   "id": "165a81b3-85e3-4bd2-bd02-241cab329a80",
   "metadata": {
    "tags": []
   },
   "outputs": [],
   "source": [
    "compras_df['FECH EMI'] = pd.to_datetime(compras_df['FECH EMI'], errors='coerce')"
   ]
  },
  {
   "cell_type": "code",
   "execution_count": 22,
   "id": "b61cc2e6-f528-404b-9c8b-ad4554f0e1e2",
   "metadata": {
    "tags": []
   },
   "outputs": [
    {
     "data": {
      "text/plain": [
       "PROV                     int64\n",
       "BENEFICIARIO            object\n",
       "RFC                     object\n",
       "NUM FACT                object\n",
       "CONTRATO                object\n",
       "DESCRIPCION             object\n",
       "TIPO OP                 object\n",
       "BCO-OP                 float64\n",
       "FECH EMI        datetime64[ns]\n",
       "IMPORTE                float64\n",
       "SHEET                   object\n",
       "dtype: object"
      ]
     },
     "execution_count": 22,
     "metadata": {},
     "output_type": "execute_result"
    }
   ],
   "source": [
    "compras_df.dtypes"
   ]
  },
  {
   "cell_type": "code",
   "execution_count": 24,
   "id": "51afc93b-84e6-4377-ab67-62f6a126421a",
   "metadata": {
    "tags": []
   },
   "outputs": [],
   "source": [
    "compras_df['DIA'] = compras_df['FECH EMI'].apply(lambda x: x.day)"
   ]
  },
  {
   "cell_type": "code",
   "execution_count": 26,
   "id": "ba93cef9-b50c-4116-b237-ae12615a1ced",
   "metadata": {
    "tags": []
   },
   "outputs": [],
   "source": [
    "compras_df['MES'] = compras_df['FECH EMI'].apply(lambda x: x.month)"
   ]
  },
  {
   "cell_type": "code",
   "execution_count": 28,
   "id": "a59ddb02-7ebd-453f-ac89-00e77839fcf0",
   "metadata": {
    "tags": []
   },
   "outputs": [],
   "source": [
    "compras_df['ANIO'] = compras_df['FECH EMI'].apply(lambda x: x.year)"
   ]
  },
  {
   "cell_type": "code",
   "execution_count": 30,
   "id": "821139dc-0732-4b80-a65d-c1ab60e99850",
   "metadata": {
    "tags": []
   },
   "outputs": [
    {
     "data": {
      "text/html": [
       "<div>\n",
       "<style scoped>\n",
       "    .dataframe tbody tr th:only-of-type {\n",
       "        vertical-align: middle;\n",
       "    }\n",
       "\n",
       "    .dataframe tbody tr th {\n",
       "        vertical-align: top;\n",
       "    }\n",
       "\n",
       "    .dataframe thead th {\n",
       "        text-align: right;\n",
       "    }\n",
       "</style>\n",
       "<table border=\"1\" class=\"dataframe\">\n",
       "  <thead>\n",
       "    <tr style=\"text-align: right;\">\n",
       "      <th></th>\n",
       "      <th>PROV</th>\n",
       "      <th>BENEFICIARIO</th>\n",
       "      <th>RFC</th>\n",
       "      <th>NUM FACT</th>\n",
       "      <th>CONTRATO</th>\n",
       "      <th>DESCRIPCION</th>\n",
       "      <th>TIPO OP</th>\n",
       "      <th>BCO-OP</th>\n",
       "      <th>FECH EMI</th>\n",
       "      <th>IMPORTE</th>\n",
       "      <th>SHEET</th>\n",
       "      <th>DIA</th>\n",
       "      <th>MES</th>\n",
       "      <th>ANIO</th>\n",
       "    </tr>\n",
       "  </thead>\n",
       "  <tbody>\n",
       "    <tr>\n",
       "      <th>0</th>\n",
       "      <td>123629</td>\n",
       "      <td>PAVIMENTACIONES, CAMINOS Y COMPACTACIONES, S.A...</td>\n",
       "      <td>PCC890216TG1</td>\n",
       "      <td>B4668</td>\n",
       "      <td>SOP/697/2016</td>\n",
       "      <td>EJE RP-2016 (GONZALITOS) EST. 18E OP-R23-01/16...</td>\n",
       "      <td>TR</td>\n",
       "      <td>225000024.0</td>\n",
       "      <td>2017-01-09</td>\n",
       "      <td>7859725.14</td>\n",
       "      <td>CONTRATISTAS</td>\n",
       "      <td>9.0</td>\n",
       "      <td>1.0</td>\n",
       "      <td>2017.0</td>\n",
       "    </tr>\n",
       "    <tr>\n",
       "      <th>1</th>\n",
       "      <td>123629</td>\n",
       "      <td>PAVIMENTACIONES, CAMINOS Y COMPACTACIONES, S.A...</td>\n",
       "      <td>PCC890216TG1</td>\n",
       "      <td>B4669</td>\n",
       "      <td>SOP/697/2016</td>\n",
       "      <td>EJE RP-2016 (AV. ALMAZAN, AV. AARON SAENZ Y AV...</td>\n",
       "      <td>TR</td>\n",
       "      <td>225000024.0</td>\n",
       "      <td>2017-01-09</td>\n",
       "      <td>3152852.45</td>\n",
       "      <td>CONTRATISTAS</td>\n",
       "      <td>9.0</td>\n",
       "      <td>1.0</td>\n",
       "      <td>2017.0</td>\n",
       "    </tr>\n",
       "    <tr>\n",
       "      <th>2</th>\n",
       "      <td>123629</td>\n",
       "      <td>PAVIMENTACIONES, CAMINOS Y COMPACTACIONES, S.A...</td>\n",
       "      <td>PCC890216TG1</td>\n",
       "      <td>B4725</td>\n",
       "      <td>SOP/697/2016</td>\n",
       "      <td>EJE RP-2016 (AV. ALMAZAN, AV. AARON SAENZ Y AV...</td>\n",
       "      <td>TR</td>\n",
       "      <td>225000024.0</td>\n",
       "      <td>2017-01-09</td>\n",
       "      <td>8763325.29</td>\n",
       "      <td>CONTRATISTAS</td>\n",
       "      <td>9.0</td>\n",
       "      <td>1.0</td>\n",
       "      <td>2017.0</td>\n",
       "    </tr>\n",
       "    <tr>\n",
       "      <th>3</th>\n",
       "      <td>123629</td>\n",
       "      <td>PAVIMENTACIONES, CAMINOS Y COMPACTACIONES, S.A...</td>\n",
       "      <td>PCC890216TG1</td>\n",
       "      <td>B4734</td>\n",
       "      <td>SOP/697/2016</td>\n",
       "      <td>EJE RE-FDO-DES-MCIPAL-2016 (AV. FIDEL VELAZQUE...</td>\n",
       "      <td>TR</td>\n",
       "      <td>229000030.0</td>\n",
       "      <td>2017-01-09</td>\n",
       "      <td>1842839.12</td>\n",
       "      <td>CONTRATISTAS</td>\n",
       "      <td>9.0</td>\n",
       "      <td>1.0</td>\n",
       "      <td>2017.0</td>\n",
       "    </tr>\n",
       "    <tr>\n",
       "      <th>4</th>\n",
       "      <td>123629</td>\n",
       "      <td>PAVIMENTACIONES, CAMINOS Y COMPACTACIONES, S.A...</td>\n",
       "      <td>PCC890216TG1</td>\n",
       "      <td>B4735</td>\n",
       "      <td>SOP/697/2016</td>\n",
       "      <td>EJE R23-2016 (PROG-REG) EST. 21E OP-R23-01/16-...</td>\n",
       "      <td>TR</td>\n",
       "      <td>239000001.0</td>\n",
       "      <td>2017-01-09</td>\n",
       "      <td>2281374.75</td>\n",
       "      <td>CONTRATISTAS</td>\n",
       "      <td>9.0</td>\n",
       "      <td>1.0</td>\n",
       "      <td>2017.0</td>\n",
       "    </tr>\n",
       "  </tbody>\n",
       "</table>\n",
       "</div>"
      ],
      "text/plain": [
       "     PROV                                       BENEFICIARIO           RFC  \\\n",
       "0  123629  PAVIMENTACIONES, CAMINOS Y COMPACTACIONES, S.A...  PCC890216TG1   \n",
       "1  123629  PAVIMENTACIONES, CAMINOS Y COMPACTACIONES, S.A...  PCC890216TG1   \n",
       "2  123629  PAVIMENTACIONES, CAMINOS Y COMPACTACIONES, S.A...  PCC890216TG1   \n",
       "3  123629  PAVIMENTACIONES, CAMINOS Y COMPACTACIONES, S.A...  PCC890216TG1   \n",
       "4  123629  PAVIMENTACIONES, CAMINOS Y COMPACTACIONES, S.A...  PCC890216TG1   \n",
       "\n",
       "  NUM FACT      CONTRATO                                        DESCRIPCION  \\\n",
       "0    B4668  SOP/697/2016  EJE RP-2016 (GONZALITOS) EST. 18E OP-R23-01/16...   \n",
       "1    B4669  SOP/697/2016  EJE RP-2016 (AV. ALMAZAN, AV. AARON SAENZ Y AV...   \n",
       "2    B4725  SOP/697/2016  EJE RP-2016 (AV. ALMAZAN, AV. AARON SAENZ Y AV...   \n",
       "3    B4734  SOP/697/2016  EJE RE-FDO-DES-MCIPAL-2016 (AV. FIDEL VELAZQUE...   \n",
       "4    B4735  SOP/697/2016  EJE R23-2016 (PROG-REG) EST. 21E OP-R23-01/16-...   \n",
       "\n",
       "  TIPO OP       BCO-OP   FECH EMI     IMPORTE         SHEET  DIA  MES    ANIO  \n",
       "0      TR  225000024.0 2017-01-09  7859725.14  CONTRATISTAS  9.0  1.0  2017.0  \n",
       "1      TR  225000024.0 2017-01-09  3152852.45  CONTRATISTAS  9.0  1.0  2017.0  \n",
       "2      TR  225000024.0 2017-01-09  8763325.29  CONTRATISTAS  9.0  1.0  2017.0  \n",
       "3      TR  229000030.0 2017-01-09  1842839.12  CONTRATISTAS  9.0  1.0  2017.0  \n",
       "4      TR  239000001.0 2017-01-09  2281374.75  CONTRATISTAS  9.0  1.0  2017.0  "
      ]
     },
     "execution_count": 30,
     "metadata": {},
     "output_type": "execute_result"
    }
   ],
   "source": [
    "compras_df.head()"
   ]
  },
  {
   "cell_type": "markdown",
   "id": "be462154-65e1-48dc-9ba8-d51aec497b11",
   "metadata": {},
   "source": [
    "## Proyectar una variable con otra"
   ]
  },
  {
   "cell_type": "code",
   "execution_count": 35,
   "id": "87472d8c-0ada-4c72-a1ac-8afc411f1b43",
   "metadata": {
    "tags": []
   },
   "outputs": [],
   "source": [
    "beneficiario_sales = compras_df['BENEFICIARIO'].value_counts().to_dict()"
   ]
  },
  {
   "cell_type": "code",
   "execution_count": 37,
   "id": "f28b3d92-83e0-4182-8037-ed165ad81c0e",
   "metadata": {
    "tags": []
   },
   "outputs": [
    {
     "data": {
      "text/plain": [
       "['CAR ONE MONTERREY, S.A. DE C.V.',\n",
       " 'DISTRIBUIDORA DE FRUTAS Y LEGUMBRES LA HORTALIZA,S.A.DE C.V.',\n",
       " '(F INTERACC) CHRISTUS MUGUERZA SISTEMAS HOSPITALARIOS, S.A. DE C',\n",
       " 'CORAZON URBANO, AC.',\n",
       " 'S.I.M.E.P.R.O.D.E.']"
      ]
     },
     "execution_count": 37,
     "metadata": {},
     "output_type": "execute_result"
    }
   ],
   "source": [
    "list(beneficiario_sales.keys())[0:5]"
   ]
  },
  {
   "cell_type": "code",
   "execution_count": 39,
   "id": "e1f5c80e-97ab-49a2-b527-6b9098da8e3a",
   "metadata": {
    "tags": []
   },
   "outputs": [],
   "source": [
    "compras_df['BENEFICIARIO_SALES'] = compras_df['BENEFICIARIO'].apply(lambda x: beneficiario_sales[x])"
   ]
  },
  {
   "cell_type": "code",
   "execution_count": 41,
   "id": "ed38d6e1-4db5-4b16-8eb4-39f174abf8b1",
   "metadata": {
    "tags": []
   },
   "outputs": [
    {
     "data": {
      "text/html": [
       "<div>\n",
       "<style scoped>\n",
       "    .dataframe tbody tr th:only-of-type {\n",
       "        vertical-align: middle;\n",
       "    }\n",
       "\n",
       "    .dataframe tbody tr th {\n",
       "        vertical-align: top;\n",
       "    }\n",
       "\n",
       "    .dataframe thead th {\n",
       "        text-align: right;\n",
       "    }\n",
       "</style>\n",
       "<table border=\"1\" class=\"dataframe\">\n",
       "  <thead>\n",
       "    <tr style=\"text-align: right;\">\n",
       "      <th></th>\n",
       "      <th>PROV</th>\n",
       "      <th>BENEFICIARIO</th>\n",
       "      <th>RFC</th>\n",
       "      <th>NUM FACT</th>\n",
       "      <th>CONTRATO</th>\n",
       "      <th>DESCRIPCION</th>\n",
       "      <th>TIPO OP</th>\n",
       "      <th>BCO-OP</th>\n",
       "      <th>FECH EMI</th>\n",
       "      <th>IMPORTE</th>\n",
       "      <th>SHEET</th>\n",
       "      <th>DIA</th>\n",
       "      <th>MES</th>\n",
       "      <th>ANIO</th>\n",
       "      <th>BENEFICIARIO_SALES</th>\n",
       "    </tr>\n",
       "  </thead>\n",
       "  <tbody>\n",
       "    <tr>\n",
       "      <th>0</th>\n",
       "      <td>123629</td>\n",
       "      <td>PAVIMENTACIONES, CAMINOS Y COMPACTACIONES, S.A...</td>\n",
       "      <td>PCC890216TG1</td>\n",
       "      <td>B4668</td>\n",
       "      <td>SOP/697/2016</td>\n",
       "      <td>EJE RP-2016 (GONZALITOS) EST. 18E OP-R23-01/16...</td>\n",
       "      <td>TR</td>\n",
       "      <td>225000024.0</td>\n",
       "      <td>2017-01-09</td>\n",
       "      <td>7859725.14</td>\n",
       "      <td>CONTRATISTAS</td>\n",
       "      <td>9.0</td>\n",
       "      <td>1.0</td>\n",
       "      <td>2017.0</td>\n",
       "      <td>33</td>\n",
       "    </tr>\n",
       "    <tr>\n",
       "      <th>1</th>\n",
       "      <td>123629</td>\n",
       "      <td>PAVIMENTACIONES, CAMINOS Y COMPACTACIONES, S.A...</td>\n",
       "      <td>PCC890216TG1</td>\n",
       "      <td>B4669</td>\n",
       "      <td>SOP/697/2016</td>\n",
       "      <td>EJE RP-2016 (AV. ALMAZAN, AV. AARON SAENZ Y AV...</td>\n",
       "      <td>TR</td>\n",
       "      <td>225000024.0</td>\n",
       "      <td>2017-01-09</td>\n",
       "      <td>3152852.45</td>\n",
       "      <td>CONTRATISTAS</td>\n",
       "      <td>9.0</td>\n",
       "      <td>1.0</td>\n",
       "      <td>2017.0</td>\n",
       "      <td>33</td>\n",
       "    </tr>\n",
       "    <tr>\n",
       "      <th>2</th>\n",
       "      <td>123629</td>\n",
       "      <td>PAVIMENTACIONES, CAMINOS Y COMPACTACIONES, S.A...</td>\n",
       "      <td>PCC890216TG1</td>\n",
       "      <td>B4725</td>\n",
       "      <td>SOP/697/2016</td>\n",
       "      <td>EJE RP-2016 (AV. ALMAZAN, AV. AARON SAENZ Y AV...</td>\n",
       "      <td>TR</td>\n",
       "      <td>225000024.0</td>\n",
       "      <td>2017-01-09</td>\n",
       "      <td>8763325.29</td>\n",
       "      <td>CONTRATISTAS</td>\n",
       "      <td>9.0</td>\n",
       "      <td>1.0</td>\n",
       "      <td>2017.0</td>\n",
       "      <td>33</td>\n",
       "    </tr>\n",
       "    <tr>\n",
       "      <th>3</th>\n",
       "      <td>123629</td>\n",
       "      <td>PAVIMENTACIONES, CAMINOS Y COMPACTACIONES, S.A...</td>\n",
       "      <td>PCC890216TG1</td>\n",
       "      <td>B4734</td>\n",
       "      <td>SOP/697/2016</td>\n",
       "      <td>EJE RE-FDO-DES-MCIPAL-2016 (AV. FIDEL VELAZQUE...</td>\n",
       "      <td>TR</td>\n",
       "      <td>229000030.0</td>\n",
       "      <td>2017-01-09</td>\n",
       "      <td>1842839.12</td>\n",
       "      <td>CONTRATISTAS</td>\n",
       "      <td>9.0</td>\n",
       "      <td>1.0</td>\n",
       "      <td>2017.0</td>\n",
       "      <td>33</td>\n",
       "    </tr>\n",
       "    <tr>\n",
       "      <th>4</th>\n",
       "      <td>123629</td>\n",
       "      <td>PAVIMENTACIONES, CAMINOS Y COMPACTACIONES, S.A...</td>\n",
       "      <td>PCC890216TG1</td>\n",
       "      <td>B4735</td>\n",
       "      <td>SOP/697/2016</td>\n",
       "      <td>EJE R23-2016 (PROG-REG) EST. 21E OP-R23-01/16-...</td>\n",
       "      <td>TR</td>\n",
       "      <td>239000001.0</td>\n",
       "      <td>2017-01-09</td>\n",
       "      <td>2281374.75</td>\n",
       "      <td>CONTRATISTAS</td>\n",
       "      <td>9.0</td>\n",
       "      <td>1.0</td>\n",
       "      <td>2017.0</td>\n",
       "      <td>33</td>\n",
       "    </tr>\n",
       "  </tbody>\n",
       "</table>\n",
       "</div>"
      ],
      "text/plain": [
       "     PROV                                       BENEFICIARIO           RFC  \\\n",
       "0  123629  PAVIMENTACIONES, CAMINOS Y COMPACTACIONES, S.A...  PCC890216TG1   \n",
       "1  123629  PAVIMENTACIONES, CAMINOS Y COMPACTACIONES, S.A...  PCC890216TG1   \n",
       "2  123629  PAVIMENTACIONES, CAMINOS Y COMPACTACIONES, S.A...  PCC890216TG1   \n",
       "3  123629  PAVIMENTACIONES, CAMINOS Y COMPACTACIONES, S.A...  PCC890216TG1   \n",
       "4  123629  PAVIMENTACIONES, CAMINOS Y COMPACTACIONES, S.A...  PCC890216TG1   \n",
       "\n",
       "  NUM FACT      CONTRATO                                        DESCRIPCION  \\\n",
       "0    B4668  SOP/697/2016  EJE RP-2016 (GONZALITOS) EST. 18E OP-R23-01/16...   \n",
       "1    B4669  SOP/697/2016  EJE RP-2016 (AV. ALMAZAN, AV. AARON SAENZ Y AV...   \n",
       "2    B4725  SOP/697/2016  EJE RP-2016 (AV. ALMAZAN, AV. AARON SAENZ Y AV...   \n",
       "3    B4734  SOP/697/2016  EJE RE-FDO-DES-MCIPAL-2016 (AV. FIDEL VELAZQUE...   \n",
       "4    B4735  SOP/697/2016  EJE R23-2016 (PROG-REG) EST. 21E OP-R23-01/16-...   \n",
       "\n",
       "  TIPO OP       BCO-OP   FECH EMI     IMPORTE         SHEET  DIA  MES    ANIO  \\\n",
       "0      TR  225000024.0 2017-01-09  7859725.14  CONTRATISTAS  9.0  1.0  2017.0   \n",
       "1      TR  225000024.0 2017-01-09  3152852.45  CONTRATISTAS  9.0  1.0  2017.0   \n",
       "2      TR  225000024.0 2017-01-09  8763325.29  CONTRATISTAS  9.0  1.0  2017.0   \n",
       "3      TR  229000030.0 2017-01-09  1842839.12  CONTRATISTAS  9.0  1.0  2017.0   \n",
       "4      TR  239000001.0 2017-01-09  2281374.75  CONTRATISTAS  9.0  1.0  2017.0   \n",
       "\n",
       "   BENEFICIARIO_SALES  \n",
       "0                  33  \n",
       "1                  33  \n",
       "2                  33  \n",
       "3                  33  \n",
       "4                  33  "
      ]
     },
     "execution_count": 41,
     "metadata": {},
     "output_type": "execute_result"
    }
   ],
   "source": [
    "compras_df.head()"
   ]
  },
  {
   "cell_type": "code",
   "execution_count": 44,
   "id": "7ee79b9e-eced-46c0-9c3e-74ada95ad67b",
   "metadata": {
    "tags": []
   },
   "outputs": [],
   "source": [
    "sheet_mean_compras = compras_df.groupby('SHEET')['IMPORTE'].mean()"
   ]
  },
  {
   "cell_type": "code",
   "execution_count": 48,
   "id": "ef23025b-214a-4e20-86ae-27dc292669d8",
   "metadata": {
    "tags": []
   },
   "outputs": [
    {
     "data": {
      "text/plain": [
       "{'COMUNICACION': 62192.25285208776,\n",
       " 'CONTRATISTAS': 658111.6532535885,\n",
       " 'GASTOS VARIOS': 260967.94106650777,\n",
       " 'PERSONALES': 46175.01243407708,\n",
       " 'SERVICIOS': 311647.86053956836}"
      ]
     },
     "execution_count": 48,
     "metadata": {},
     "output_type": "execute_result"
    }
   ],
   "source": [
    "sheet_mean_compras.to_dict()"
   ]
  },
  {
   "cell_type": "code",
   "execution_count": 50,
   "id": "da7e2104-027e-4e04-a835-475ee35d67d1",
   "metadata": {
    "tags": []
   },
   "outputs": [],
   "source": [
    "compras_df['IMPORTE_GASTO_PROMEDIO'] = compras_df['SHEET'].apply(lambda x: sheet_mean_compras[x])"
   ]
  },
  {
   "cell_type": "markdown",
   "id": "6b63d48a-9515-4229-9af5-4ba4af7344c7",
   "metadata": {},
   "source": [
    "## Proyección de variable IMPORTE_GASTO_MAXIMO (diferente a la vista en clase)"
   ]
  },
  {
   "cell_type": "code",
   "execution_count": 56,
   "id": "fe88064a-9f0d-4860-bb23-0e4c4e9e6353",
   "metadata": {
    "tags": []
   },
   "outputs": [],
   "source": [
    "sheet_max_compras = compras_df.groupby('SHEET')['IMPORTE'].max()"
   ]
  },
  {
   "cell_type": "code",
   "execution_count": 58,
   "id": "8ab34b58-3fff-4260-a777-ac803058e3e8",
   "metadata": {
    "tags": []
   },
   "outputs": [
    {
     "data": {
      "text/plain": [
       "{'COMUNICACION': 1643952.0,\n",
       " 'CONTRATISTAS': 111039011.78,\n",
       " 'GASTOS VARIOS': 93755760.48,\n",
       " 'PERSONALES': 1167808.16,\n",
       " 'SERVICIOS': 5954182.47}"
      ]
     },
     "execution_count": 58,
     "metadata": {},
     "output_type": "execute_result"
    }
   ],
   "source": [
    "sheet_max_compras.to_dict()"
   ]
  },
  {
   "cell_type": "code",
   "execution_count": 60,
   "id": "7358d2e6-8571-4704-913d-d9d3faaf98de",
   "metadata": {
    "tags": []
   },
   "outputs": [],
   "source": [
    "compras_df['IMPORTE_GASTO_MAXIMO'] = compras_df['SHEET'].apply(lambda x: sheet_max_compras[x])"
   ]
  },
  {
   "cell_type": "code",
   "execution_count": 62,
   "id": "818d674c-588e-4fba-b420-9048b0296700",
   "metadata": {
    "tags": []
   },
   "outputs": [],
   "source": [
    "compras_df.to_csv('../data/compras_df_enriched.csv', index=None)"
   ]
  }
 ],
 "metadata": {
  "kernelspec": {
   "display_name": "Python 3 (ipykernel)",
   "language": "python",
   "name": "python3"
  },
  "language_info": {
   "codemirror_mode": {
    "name": "ipython",
    "version": 3
   },
   "file_extension": ".py",
   "mimetype": "text/x-python",
   "name": "python",
   "nbconvert_exporter": "python",
   "pygments_lexer": "ipython3",
   "version": "3.11.7"
  }
 },
 "nbformat": 4,
 "nbformat_minor": 5
}

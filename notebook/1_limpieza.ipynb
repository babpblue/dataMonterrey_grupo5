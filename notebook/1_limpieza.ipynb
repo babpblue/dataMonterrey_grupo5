{
 "cells": [
  {
   "cell_type": "code",
   "execution_count": 1,
   "id": "ff3bd3a2-3d2c-4141-9bc6-cb51ca4bef08",
   "metadata": {
    "tags": []
   },
   "outputs": [],
   "source": [
    "#Importar la libreria de pandas\n",
    "import pandas as pd"
   ]
  },
  {
   "cell_type": "code",
   "execution_count": 2,
   "id": "a4970c13-d176-4d17-8cca-568effd5d965",
   "metadata": {
    "tags": []
   },
   "outputs": [],
   "source": [
    "# importamos la libreria del sistema operativo\n",
    "import os"
   ]
  },
  {
   "cell_type": "code",
   "execution_count": 3,
   "id": "c17ecb45-94bf-4e51-a635-1db7f890b001",
   "metadata": {
    "tags": []
   },
   "outputs": [
    {
     "name": "stdout",
     "output_type": "stream",
     "text": [
      " El volumen de la unidad C es Windows\n",
      " El número de serie del volumen es: 029C-D23D\n",
      "\n",
      " Directorio de C:\\Users\\DETPC\\EjerciciosPython\\InteligenciaArtificial\\Taller2\\notebook\n",
      "\n",
      "16/10/2024  20:39    <DIR>          .\n",
      "16/10/2024  20:37    <DIR>          ..\n",
      "16/10/2024  20:37    <DIR>          .ipynb_checkpoints\n",
      "16/10/2024  20:39            54.655 1_limpieza.ipynb\n",
      "16/10/2024  20:37           275.035 2_analisis.ipynb\n",
      "               2 archivos        329.690 bytes\n",
      "               3 dirs  84.052.426.752 bytes libres\n"
     ]
    }
   ],
   "source": [
    "ls"
   ]
  },
  {
   "cell_type": "code",
   "execution_count": 4,
   "id": "852c4ec7-481e-43a8-8d74-ffd03ec22266",
   "metadata": {
    "tags": []
   },
   "outputs": [
    {
     "name": "stdout",
     "output_type": "stream",
     "text": [
      " El volumen de la unidad C es Windows\n",
      " El número de serie del volumen es: 029C-D23D\n",
      "\n",
      " Directorio de C:\\Users\\DETPC\\EjerciciosPython\\InteligenciaArtificial\\Taller2\\notebook\n",
      "\n",
      "16/10/2024  20:39    <DIR>          .\n",
      "16/10/2024  20:37    <DIR>          ..\n",
      "16/10/2024  20:37    <DIR>          .ipynb_checkpoints\n",
      "16/10/2024  20:39            54.655 1_limpieza.ipynb\n",
      "16/10/2024  20:37           275.035 2_analisis.ipynb\n",
      "               2 archivos        329.690 bytes\n",
      "               3 dirs  84.052.426.752 bytes libres\n"
     ]
    }
   ],
   "source": [
    "ls"
   ]
  },
  {
   "cell_type": "code",
   "execution_count": 5,
   "id": "6dc37632-2dd2-492a-9558-eae79c6716cb",
   "metadata": {
    "tags": []
   },
   "outputs": [],
   "source": [
    "os.chdir('../datos')"
   ]
  },
  {
   "cell_type": "code",
   "execution_count": 6,
   "id": "965e49a2-ae61-4996-8fc7-deecb1e54270",
   "metadata": {
    "tags": []
   },
   "outputs": [
    {
     "name": "stdout",
     "output_type": "stream",
     "text": [
      " El volumen de la unidad C es Windows\n",
      " El número de serie del volumen es: 029C-D23D\n",
      "\n",
      " Directorio de C:\\Users\\DETPC\\EjerciciosPython\\InteligenciaArtificial\\Taller2\\datos\n",
      "\n",
      "16/10/2024  20:38    <DIR>          .\n",
      "16/10/2024  20:37    <DIR>          ..\n",
      "16/10/2024  20:38           148.869 PAGOS AGOSTO 2017.xlsx\n",
      "16/10/2024  20:38           370.470 PAGOS DICIEMBRE 2017.xlsx\n",
      "16/10/2024  20:38           130.487 PAGOS JULIO 2017.xlsx\n",
      "16/10/2024  20:38           200.216 PAGOS JUNIO 2017.xlsx\n",
      "16/10/2024  20:38           207.149 PAGOS MAYO 2017.xlsx\n",
      "16/10/2024  20:38           197.718 PAGOS OCTUBRE 2017.xlsx\n",
      "16/10/2024  20:38           196.926 PAGOS SEPTIEMBRE 2017.xlsx\n",
      "16/10/2024  20:38           104.929 PAGOS_ABRIL_2017.xlsx\n",
      "16/10/2024  20:38            51.457 PAGOS_ENERO_2017.xlsx\n",
      "16/10/2024  20:38            41.302 PAGOS_FEBRERO_2017.xlsx\n",
      "16/10/2024  20:38           167.758 PAGOS_MARZO_2017.xlsx\n",
      "16/10/2024  20:38           278.029 PAGOS_NOVIEMBRE_2017.xlsx\n",
      "              12 archivos      2.095.310 bytes\n",
      "               2 dirs  84.052.426.752 bytes libres\n"
     ]
    }
   ],
   "source": [
    "ls\n"
   ]
  },
  {
   "cell_type": "code",
   "execution_count": 7,
   "id": "8af71562-ae46-4db2-bf6e-674a9f699a40",
   "metadata": {},
   "outputs": [],
   "source": [
    "# Cargamos la hoja de los Contratos de todos los meses de 2017\n",
    "\n",
    "df_contratistas_enero = pd.read_excel('PAGOS_ENERO_2017.xlsx',sheet_name='CONTRATISTAS Y FDOS FED',skiprows=5)\n",
    "df_contratistas_febrero = pd.read_excel('PAGOS_FEBRERO_2017.xlsx',sheet_name='CONTRAT Y FDOS FED',skiprows=5)\n",
    "df_contratistas_marzo = pd.read_excel('PAGOS_MARZO_2017.xlsx',sheet_name='CONTRATISTAS Y FDOS FED',skiprows=5)\n",
    "df_contratistas_abril = pd.read_excel('PAGOS_ABRIL_2017.xlsx',sheet_name='CONTRAT Y FDOS FED',skiprows=5)\n",
    "df_contratistas_mayo = pd.read_excel('PAGOS MAYO 2017.xlsx',sheet_name='FDOS FED Y CONTRATISTAS',skiprows=5)\n",
    "df_contratistas_junio = pd.read_excel('PAGOS JUNIO 2017.xlsx',sheet_name='FDS FED Y CONTRATISTAS',skiprows=5)\n",
    "df_contratistas_julio = pd.read_excel('PAGOS JULIO 2017.xlsx',sheet_name='CONTRATIS Y FDOS FED',skiprows=5)\n",
    "df_contratistas_agosto = pd.read_excel('PAGOS AGOSTO 2017.xlsx',sheet_name='FDOS FED Y CONTRATISTAS',skiprows=5)\n",
    "df_contratistas_septiembre = pd.read_excel('PAGOS SEPTIEMBRE 2017.xlsx',sheet_name='FDOS FED Y CONTRAT',skiprows=5)\n",
    "df_contratistas_octubre = pd.read_excel('PAGOS OCTUBRE 2017.xlsx',sheet_name='FDOS FED Y CONTRATISTAS',skiprows=5)\n",
    "df_contratistas_noviembre = pd.read_excel('PAGOS_NOVIEMBRE_2017.xlsx',sheet_name='CONTRATISTAS Y FDOS FED',skiprows=5)\n",
    "df_contratistas_diciembre = pd.read_excel('PAGOS DICIEMBRE 2017.xlsx',sheet_name='CONTRATIST Y FDOS FED',skiprows=5)"
   ]
  },
  {
   "cell_type": "code",
   "execution_count": 8,
   "id": "de8bcb9c-edf6-4d73-8696-84481adf2764",
   "metadata": {},
   "outputs": [],
   "source": [
    "# Especificamos los nombres de las columnas\n",
    "\n",
    "nuevos_nombres = [\n",
    "    'PROV',               # 0\n",
    "    'BENEFICIARIO',      # 1\n",
    "    'RFC',               # 2\n",
    "    'NUM FACT',          # 3\n",
    "    'CONTRATO',          # 4\n",
    "    'DESCRIPCION',       # 5\n",
    "    'TIPO OP',           # 6\n",
    "    'BCO-OP',            # 7\n",
    "    'FECH EMI',          # 8\n",
    "    'IMPORTE'            # 9\n",
    "]\n"
   ]
  },
  {
   "cell_type": "code",
   "execution_count": 9,
   "id": "04532cc6-a193-4122-ac7b-1f927484a3c8",
   "metadata": {},
   "outputs": [],
   "source": [
    "df_contratistas_enero.columns = nuevos_nombres\n",
    "df_contratistas_febrero.columns = nuevos_nombres\n",
    "df_contratistas_marzo.columns = nuevos_nombres\n",
    "df_contratistas_abril.columns = nuevos_nombres\n",
    "\n"
   ]
  },
  {
   "cell_type": "code",
   "execution_count": 10,
   "id": "8627b46d-ce6c-445b-bd6b-4a2d59cd59d4",
   "metadata": {},
   "outputs": [],
   "source": [
    "df_contratistas_mayo = df_contratistas_mayo.dropna(axis=1, how='all')\n",
    "df_contratistas_mayo.drop(columns=['Unnamed: 16383'], inplace=True)\n",
    "\n"
   ]
  },
  {
   "cell_type": "code",
   "execution_count": 11,
   "id": "39701cdb-997e-4803-8231-6c55f97c60af",
   "metadata": {},
   "outputs": [],
   "source": [
    "df_contratistas_mayo.columns =  nuevos_nombres"
   ]
  },
  {
   "cell_type": "code",
   "execution_count": 12,
   "id": "66237378-2807-46d2-991e-afca7f90624c",
   "metadata": {},
   "outputs": [],
   "source": [
    "df_contratistas_junio.columns = nuevos_nombres\n",
    "df_contratistas_julio.columns = nuevos_nombres\n",
    "df_contratistas_agosto.columns = nuevos_nombres\n",
    "df_contratistas_septiembre.columns = nuevos_nombres\n",
    "df_contratistas_octubre.columns = nuevos_nombres\n",
    "df_contratistas_noviembre.columns = nuevos_nombres\n",
    "df_contratistas_diciembre.columns = nuevos_nombres"
   ]
  },
  {
   "cell_type": "code",
   "execution_count": 13,
   "id": "4dcc60d2-1cd6-4291-8269-f44aeda4b312",
   "metadata": {},
   "outputs": [],
   "source": [
    "df_contratistas_2017 = pd.concat([df_contratistas_enero,df_contratistas_febrero,df_contratistas_marzo,df_contratistas_abril,df_contratistas_mayo,df_contratistas_junio,df_contratistas_julio,df_contratistas_agosto,df_contratistas_septiembre,df_contratistas_octubre,df_contratistas_noviembre,df_contratistas_diciembre])"
   ]
  },
  {
   "cell_type": "code",
   "execution_count": 14,
   "id": "fd5d9cab-f36d-4024-8fb4-01dc458c7f65",
   "metadata": {},
   "outputs": [],
   "source": [
    "df_contratistas_2017['SHEET'] = 'CONTRATISTAS'"
   ]
  },
  {
   "cell_type": "code",
   "execution_count": 15,
   "id": "b4c9a051-fb7b-40f6-ba17-bc000fdfe2d9",
   "metadata": {},
   "outputs": [
    {
     "data": {
      "text/html": [
       "<div>\n",
       "<style scoped>\n",
       "    .dataframe tbody tr th:only-of-type {\n",
       "        vertical-align: middle;\n",
       "    }\n",
       "\n",
       "    .dataframe tbody tr th {\n",
       "        vertical-align: top;\n",
       "    }\n",
       "\n",
       "    .dataframe thead th {\n",
       "        text-align: right;\n",
       "    }\n",
       "</style>\n",
       "<table border=\"1\" class=\"dataframe\">\n",
       "  <thead>\n",
       "    <tr style=\"text-align: right;\">\n",
       "      <th></th>\n",
       "      <th>PROV</th>\n",
       "      <th>BENEFICIARIO</th>\n",
       "      <th>RFC</th>\n",
       "      <th>NUM FACT</th>\n",
       "      <th>CONTRATO</th>\n",
       "      <th>DESCRIPCION</th>\n",
       "      <th>TIPO OP</th>\n",
       "      <th>BCO-OP</th>\n",
       "      <th>FECH EMI</th>\n",
       "      <th>IMPORTE</th>\n",
       "      <th>SHEET</th>\n",
       "    </tr>\n",
       "  </thead>\n",
       "  <tbody>\n",
       "    <tr>\n",
       "      <th>0</th>\n",
       "      <td>123629</td>\n",
       "      <td>PAVIMENTACIONES, CAMINOS Y COMPACTACIONES, S.A...</td>\n",
       "      <td>PCC890216TG1</td>\n",
       "      <td>B4668</td>\n",
       "      <td>SOP/697/2016</td>\n",
       "      <td>EJE RP-2016 (GONZALITOS) EST. 18E OP-R23-01/16...</td>\n",
       "      <td>TR</td>\n",
       "      <td>225000024.0</td>\n",
       "      <td>2017-01-09 00:00:00</td>\n",
       "      <td>7859725.14</td>\n",
       "      <td>CONTRATISTAS</td>\n",
       "    </tr>\n",
       "    <tr>\n",
       "      <th>1</th>\n",
       "      <td>123629</td>\n",
       "      <td>PAVIMENTACIONES, CAMINOS Y COMPACTACIONES, S.A...</td>\n",
       "      <td>PCC890216TG1</td>\n",
       "      <td>B4669</td>\n",
       "      <td>SOP/697/2016</td>\n",
       "      <td>EJE RP-2016 (AV. ALMAZAN, AV. AARON SAENZ Y AV...</td>\n",
       "      <td>TR</td>\n",
       "      <td>225000024.0</td>\n",
       "      <td>2017-01-09 00:00:00</td>\n",
       "      <td>3152852.45</td>\n",
       "      <td>CONTRATISTAS</td>\n",
       "    </tr>\n",
       "    <tr>\n",
       "      <th>2</th>\n",
       "      <td>123629</td>\n",
       "      <td>PAVIMENTACIONES, CAMINOS Y COMPACTACIONES, S.A...</td>\n",
       "      <td>PCC890216TG1</td>\n",
       "      <td>B4725</td>\n",
       "      <td>SOP/697/2016</td>\n",
       "      <td>EJE RP-2016 (AV. ALMAZAN, AV. AARON SAENZ Y AV...</td>\n",
       "      <td>TR</td>\n",
       "      <td>225000024.0</td>\n",
       "      <td>2017-01-09 00:00:00</td>\n",
       "      <td>8763325.29</td>\n",
       "      <td>CONTRATISTAS</td>\n",
       "    </tr>\n",
       "    <tr>\n",
       "      <th>3</th>\n",
       "      <td>123629</td>\n",
       "      <td>PAVIMENTACIONES, CAMINOS Y COMPACTACIONES, S.A...</td>\n",
       "      <td>PCC890216TG1</td>\n",
       "      <td>B4734</td>\n",
       "      <td>SOP/697/2016</td>\n",
       "      <td>EJE RE-FDO-DES-MCIPAL-2016 (AV. FIDEL VELAZQUE...</td>\n",
       "      <td>TR</td>\n",
       "      <td>229000030.0</td>\n",
       "      <td>2017-01-09 00:00:00</td>\n",
       "      <td>1842839.12</td>\n",
       "      <td>CONTRATISTAS</td>\n",
       "    </tr>\n",
       "    <tr>\n",
       "      <th>4</th>\n",
       "      <td>123629</td>\n",
       "      <td>PAVIMENTACIONES, CAMINOS Y COMPACTACIONES, S.A...</td>\n",
       "      <td>PCC890216TG1</td>\n",
       "      <td>B4735</td>\n",
       "      <td>SOP/697/2016</td>\n",
       "      <td>EJE R23-2016 (PROG-REG) EST. 21E OP-R23-01/16-...</td>\n",
       "      <td>TR</td>\n",
       "      <td>239000001.0</td>\n",
       "      <td>2017-01-09 00:00:00</td>\n",
       "      <td>2281374.75</td>\n",
       "      <td>CONTRATISTAS</td>\n",
       "    </tr>\n",
       "  </tbody>\n",
       "</table>\n",
       "</div>"
      ],
      "text/plain": [
       "     PROV                                       BENEFICIARIO           RFC  \\\n",
       "0  123629  PAVIMENTACIONES, CAMINOS Y COMPACTACIONES, S.A...  PCC890216TG1   \n",
       "1  123629  PAVIMENTACIONES, CAMINOS Y COMPACTACIONES, S.A...  PCC890216TG1   \n",
       "2  123629  PAVIMENTACIONES, CAMINOS Y COMPACTACIONES, S.A...  PCC890216TG1   \n",
       "3  123629  PAVIMENTACIONES, CAMINOS Y COMPACTACIONES, S.A...  PCC890216TG1   \n",
       "4  123629  PAVIMENTACIONES, CAMINOS Y COMPACTACIONES, S.A...  PCC890216TG1   \n",
       "\n",
       "  NUM FACT      CONTRATO                                        DESCRIPCION  \\\n",
       "0    B4668  SOP/697/2016  EJE RP-2016 (GONZALITOS) EST. 18E OP-R23-01/16...   \n",
       "1    B4669  SOP/697/2016  EJE RP-2016 (AV. ALMAZAN, AV. AARON SAENZ Y AV...   \n",
       "2    B4725  SOP/697/2016  EJE RP-2016 (AV. ALMAZAN, AV. AARON SAENZ Y AV...   \n",
       "3    B4734  SOP/697/2016  EJE RE-FDO-DES-MCIPAL-2016 (AV. FIDEL VELAZQUE...   \n",
       "4    B4735  SOP/697/2016  EJE R23-2016 (PROG-REG) EST. 21E OP-R23-01/16-...   \n",
       "\n",
       "  TIPO OP       BCO-OP             FECH EMI     IMPORTE         SHEET  \n",
       "0      TR  225000024.0  2017-01-09 00:00:00  7859725.14  CONTRATISTAS  \n",
       "1      TR  225000024.0  2017-01-09 00:00:00  3152852.45  CONTRATISTAS  \n",
       "2      TR  225000024.0  2017-01-09 00:00:00  8763325.29  CONTRATISTAS  \n",
       "3      TR  229000030.0  2017-01-09 00:00:00  1842839.12  CONTRATISTAS  \n",
       "4      TR  239000001.0  2017-01-09 00:00:00  2281374.75  CONTRATISTAS  "
      ]
     },
     "execution_count": 15,
     "metadata": {},
     "output_type": "execute_result"
    }
   ],
   "source": [
    "df_contratistas_2017.head(5)"
   ]
  },
  {
   "cell_type": "code",
   "execution_count": 16,
   "id": "7ab8ac97-c2b6-4d46-83e8-cd01b6c25784",
   "metadata": {},
   "outputs": [],
   "source": [
    "# Cargamos la hoja de los Gastos Varios de todos los meses de 2017\n",
    "\n",
    "df_gastos_enero = pd.read_excel('PAGOS_ENERO_2017.xlsx',sheet_name='GTS VARIOS',skiprows=5)\n",
    "df_gastos_febrero = pd.read_excel('PAGOS_FEBRERO_2017.xlsx',sheet_name='GTS VARIOS',skiprows=5)\n",
    "df_gastos_marzo = pd.read_excel('PAGOS_MARZO_2017.xlsx',sheet_name='VARIOS',skiprows=5)\n",
    "df_gastos_abril = pd.read_excel('PAGOS_ABRIL_2017.xlsx',sheet_name='PROVEEDORES',skiprows=4)\n",
    "df_gastos_mayo = pd.read_excel('PAGOS MAYO 2017.xlsx',sheet_name='GASTOS VARIOS',skiprows=5)\n",
    "df_gastos_junio = pd.read_excel('PAGOS JUNIO 2017.xlsx',sheet_name='GTS VARIOS',skiprows=5)\n",
    "df_gastos_julio = pd.read_excel('PAGOS JULIO 2017.xlsx',sheet_name='GTS VARIOS',skiprows=5)\n",
    "df_gastos_agosto = pd.read_excel('PAGOS AGOSTO 2017.xlsx',sheet_name='GTS VARIOS',skiprows=5)\n",
    "df_gastos_septiembre = pd.read_excel('PAGOS SEPTIEMBRE 2017.xlsx',sheet_name='GTS VARIOS',skiprows=5)\n",
    "df_gastos_octubre = pd.read_excel('PAGOS OCTUBRE 2017.xlsx',sheet_name='GTS VARIOS',skiprows=5)\n",
    "df_gastos_noviembre = pd.read_excel('PAGOS_NOVIEMBRE_2017.xlsx',sheet_name='GASTOS VARIOS',skiprows=5)\n",
    "df_gastos_diciembre = pd.read_excel('PAGOS DICIEMBRE 2017.xlsx',sheet_name='GTS VARIOS',skiprows=5)"
   ]
  },
  {
   "cell_type": "code",
   "execution_count": 17,
   "id": "75e1a97b-ca9b-4e3e-b7a7-d5796f56f2f8",
   "metadata": {},
   "outputs": [],
   "source": [
    "\n",
    "df_gastos_enero.columns = nuevos_nombres\n",
    "df_gastos_febrero.columns = nuevos_nombres\n",
    "df_gastos_marzo.columns = nuevos_nombres\n"
   ]
  },
  {
   "cell_type": "code",
   "execution_count": 18,
   "id": "efa51702-8ec2-4fd8-ab04-d846efeac8eb",
   "metadata": {},
   "outputs": [
    {
     "data": {
      "text/plain": [
       "Index(['PROV', 'BENEFICIARIO', 'RFC', 'FACT-NUE-FO',\n",
       "       'CONTRATO                            O                       ASIGNACION',\n",
       "       'CONCEPTO', 'TIPO        FDO', 'FDO                NUM OP', 'FECHA',\n",
       "       'TOTAL EGRESO'],\n",
       "      dtype='object')"
      ]
     },
     "execution_count": 18,
     "metadata": {},
     "output_type": "execute_result"
    }
   ],
   "source": [
    "df_gastos_abril.drop(columns=['FECHA                   PAGO INTERMED                FACTORAJE'], inplace=True)\n",
    "df_gastos_abril.columns"
   ]
  },
  {
   "cell_type": "code",
   "execution_count": 19,
   "id": "cd89f30b-4ca0-43b3-90ea-30a7d59183ac",
   "metadata": {},
   "outputs": [
    {
     "data": {
      "text/plain": [
       "Index(['PROV', 'BENEFICIARIO', 'RFC', 'FACT-NUE-FO',\n",
       "       'CONTRATO                                O                               ASIGNACION',\n",
       "       'CONCEPTO', 'TIPO                OP', 'FDO             NUM OP',\n",
       "       'FECHA                         PAGO', 'TOTAL EGRESO'],\n",
       "      dtype='object')"
      ]
     },
     "execution_count": 19,
     "metadata": {},
     "output_type": "execute_result"
    }
   ],
   "source": [
    "df_gastos_mayo.drop(columns=['FECHA     PAGO           INTERM            FACTORAJE'], inplace=True)\n",
    "df_gastos_mayo.columns "
   ]
  },
  {
   "cell_type": "code",
   "execution_count": 20,
   "id": "35517e51-5d3d-45a6-a30c-8deaaace7346",
   "metadata": {},
   "outputs": [],
   "source": [
    "df_gastos_abril.columns = nuevos_nombres\n",
    "df_gastos_mayo.columns = nuevos_nombres\n",
    "df_gastos_junio.columns = nuevos_nombres\n",
    "df_gastos_julio.columns = nuevos_nombres\n",
    "df_gastos_agosto.columns = nuevos_nombres\n",
    "df_gastos_septiembre.columns = nuevos_nombres\n",
    "df_gastos_octubre.columns = nuevos_nombres\n",
    "df_gastos_noviembre.columns = nuevos_nombres\n",
    "df_gastos_diciembre.columns = nuevos_nombres\n"
   ]
  },
  {
   "cell_type": "code",
   "execution_count": 21,
   "id": "d075efae-7e19-4807-95b4-e26bece7e90d",
   "metadata": {},
   "outputs": [],
   "source": [
    "df_gastos_2017 = pd.concat([df_gastos_enero,df_gastos_febrero,df_gastos_marzo,df_gastos_abril,df_gastos_mayo,df_gastos_junio,df_gastos_julio,df_gastos_agosto,df_gastos_septiembre,df_gastos_octubre,df_gastos_noviembre,df_gastos_diciembre])"
   ]
  },
  {
   "cell_type": "code",
   "execution_count": 22,
   "id": "841c4637-12e3-4e66-9523-3efb7b93ca61",
   "metadata": {},
   "outputs": [],
   "source": [
    "df_gastos_2017['SHEET'] = 'GASTOS VARIOS'"
   ]
  },
  {
   "cell_type": "code",
   "execution_count": 23,
   "id": "b9e387a8-5462-4185-9fad-0d30a2913346",
   "metadata": {},
   "outputs": [
    {
     "data": {
      "text/html": [
       "<div>\n",
       "<style scoped>\n",
       "    .dataframe tbody tr th:only-of-type {\n",
       "        vertical-align: middle;\n",
       "    }\n",
       "\n",
       "    .dataframe tbody tr th {\n",
       "        vertical-align: top;\n",
       "    }\n",
       "\n",
       "    .dataframe thead th {\n",
       "        text-align: right;\n",
       "    }\n",
       "</style>\n",
       "<table border=\"1\" class=\"dataframe\">\n",
       "  <thead>\n",
       "    <tr style=\"text-align: right;\">\n",
       "      <th></th>\n",
       "      <th>PROV</th>\n",
       "      <th>BENEFICIARIO</th>\n",
       "      <th>RFC</th>\n",
       "      <th>NUM FACT</th>\n",
       "      <th>CONTRATO</th>\n",
       "      <th>DESCRIPCION</th>\n",
       "      <th>TIPO OP</th>\n",
       "      <th>BCO-OP</th>\n",
       "      <th>FECH EMI</th>\n",
       "      <th>IMPORTE</th>\n",
       "      <th>SHEET</th>\n",
       "    </tr>\n",
       "  </thead>\n",
       "  <tbody>\n",
       "    <tr>\n",
       "      <th>0</th>\n",
       "      <td>112791</td>\n",
       "      <td>RODAL COMERCIALIZACION Y DISTRIBUCION, S.A. DE...</td>\n",
       "      <td>RCD990920IG4</td>\n",
       "      <td>1927</td>\n",
       "      <td>SADA/CC/055.16/2016</td>\n",
       "      <td>EJE COMPRA DE FILIPINA CHEF COLOR BLANCA PARA ...</td>\n",
       "      <td>TR</td>\n",
       "      <td>1006679.0</td>\n",
       "      <td>2017-01-13</td>\n",
       "      <td>9135.00</td>\n",
       "      <td>GASTOS VARIOS</td>\n",
       "    </tr>\n",
       "    <tr>\n",
       "      <th>1</th>\n",
       "      <td>112791</td>\n",
       "      <td>RODAL COMERCIALIZACION Y DISTRIBUCION, S.A. DE...</td>\n",
       "      <td>RCD990920IG4</td>\n",
       "      <td>1989</td>\n",
       "      <td>SADA/CC/023.28/2016</td>\n",
       "      <td>EJE SUMINISTRO DE EQUIPAMIENTO PARA ALBERCAS D...</td>\n",
       "      <td>TR</td>\n",
       "      <td>1006679.0</td>\n",
       "      <td>2017-01-13</td>\n",
       "      <td>168258.00</td>\n",
       "      <td>GASTOS VARIOS</td>\n",
       "    </tr>\n",
       "    <tr>\n",
       "      <th>2</th>\n",
       "      <td>112791</td>\n",
       "      <td>RODAL COMERCIALIZACION Y DISTRIBUCION, S.A. DE...</td>\n",
       "      <td>RCD990920IG4</td>\n",
       "      <td>1990</td>\n",
       "      <td>SADA/CC/054.3/2016</td>\n",
       "      <td>EJE SUMINISTRO DE MOBILIARIO (ACTIVO FIJO) PAR...</td>\n",
       "      <td>TR</td>\n",
       "      <td>1006679.0</td>\n",
       "      <td>2017-01-13</td>\n",
       "      <td>38146.58</td>\n",
       "      <td>GASTOS VARIOS</td>\n",
       "    </tr>\n",
       "    <tr>\n",
       "      <th>3</th>\n",
       "      <td>Total 112791</td>\n",
       "      <td>NaN</td>\n",
       "      <td>NaN</td>\n",
       "      <td>NaN</td>\n",
       "      <td>NaN</td>\n",
       "      <td>NaN</td>\n",
       "      <td>NaN</td>\n",
       "      <td>NaN</td>\n",
       "      <td>NaT</td>\n",
       "      <td>215539.58</td>\n",
       "      <td>GASTOS VARIOS</td>\n",
       "    </tr>\n",
       "    <tr>\n",
       "      <th>4</th>\n",
       "      <td>112917</td>\n",
       "      <td>TELEFONOS DE MEXICO,S.A.B DE C.V.</td>\n",
       "      <td>TME840315KT6</td>\n",
       "      <td>47893</td>\n",
       "      <td>NO APLICA</td>\n",
       "      <td>FACTURACION POR SERVICIO DE LAS DELEGACIONES D...</td>\n",
       "      <td>CH</td>\n",
       "      <td>1094707.0</td>\n",
       "      <td>2017-01-30</td>\n",
       "      <td>1438.09</td>\n",
       "      <td>GASTOS VARIOS</td>\n",
       "    </tr>\n",
       "  </tbody>\n",
       "</table>\n",
       "</div>"
      ],
      "text/plain": [
       "           PROV                                       BENEFICIARIO  \\\n",
       "0        112791  RODAL COMERCIALIZACION Y DISTRIBUCION, S.A. DE...   \n",
       "1        112791  RODAL COMERCIALIZACION Y DISTRIBUCION, S.A. DE...   \n",
       "2        112791  RODAL COMERCIALIZACION Y DISTRIBUCION, S.A. DE...   \n",
       "3  Total 112791                                                NaN   \n",
       "4        112917                  TELEFONOS DE MEXICO,S.A.B DE C.V.   \n",
       "\n",
       "            RFC NUM FACT             CONTRATO  \\\n",
       "0  RCD990920IG4     1927  SADA/CC/055.16/2016   \n",
       "1  RCD990920IG4     1989  SADA/CC/023.28/2016   \n",
       "2  RCD990920IG4     1990   SADA/CC/054.3/2016   \n",
       "3           NaN      NaN                  NaN   \n",
       "4  TME840315KT6    47893            NO APLICA   \n",
       "\n",
       "                                         DESCRIPCION TIPO OP     BCO-OP  \\\n",
       "0  EJE COMPRA DE FILIPINA CHEF COLOR BLANCA PARA ...      TR  1006679.0   \n",
       "1  EJE SUMINISTRO DE EQUIPAMIENTO PARA ALBERCAS D...      TR  1006679.0   \n",
       "2  EJE SUMINISTRO DE MOBILIARIO (ACTIVO FIJO) PAR...      TR  1006679.0   \n",
       "3                                                NaN     NaN        NaN   \n",
       "4  FACTURACION POR SERVICIO DE LAS DELEGACIONES D...      CH  1094707.0   \n",
       "\n",
       "    FECH EMI    IMPORTE          SHEET  \n",
       "0 2017-01-13    9135.00  GASTOS VARIOS  \n",
       "1 2017-01-13  168258.00  GASTOS VARIOS  \n",
       "2 2017-01-13   38146.58  GASTOS VARIOS  \n",
       "3        NaT  215539.58  GASTOS VARIOS  \n",
       "4 2017-01-30    1438.09  GASTOS VARIOS  "
      ]
     },
     "execution_count": 23,
     "metadata": {},
     "output_type": "execute_result"
    }
   ],
   "source": [
    "df_gastos_2017.head(5)"
   ]
  },
  {
   "cell_type": "code",
   "execution_count": 24,
   "id": "562139d5-1cac-46b4-9f8c-59ac50aef7c2",
   "metadata": {},
   "outputs": [],
   "source": [
    "# Cargamos la hoja de Servicios de todos los meses de 2017\n",
    "\n",
    "df_servicios_marzo = pd.read_excel('PAGOS_MARZO_2017.xlsx',sheet_name='SERV PROF',skiprows=5)\n",
    "df_servicios_mayo = pd.read_excel('PAGOS MAYO 2017.xlsx',sheet_name='SERV PROF',skiprows=5)\n",
    "df_servicios_junio = pd.read_excel('PAGOS JUNIO 2017.xlsx',sheet_name='SERV PROF',skiprows=5)\n",
    "df_servicios_julio = pd.read_excel('PAGOS JULIO 2017.xlsx',sheet_name='SERV PROF',skiprows=5)\n",
    "df_servicios_agosto = pd.read_excel('PAGOS AGOSTO 2017.xlsx',sheet_name='SERV PROF',skiprows=5)\n",
    "df_servicios_septiembre = pd.read_excel('PAGOS SEPTIEMBRE 2017.xlsx',sheet_name='SERV PROF',skiprows=5)\n",
    "df_servicios_octubre = pd.read_excel('PAGOS OCTUBRE 2017.xlsx',sheet_name='SERV PROF',skiprows=5)\n",
    "df_servicios_noviembre = pd.read_excel('PAGOS_NOVIEMBRE_2017.xlsx',sheet_name='SERV PROF',skiprows=5)\n",
    "df_servicios_diciembre = pd.read_excel('PAGOS DICIEMBRE 2017.xlsx',sheet_name='SERV PROF',skiprows=5)"
   ]
  },
  {
   "cell_type": "code",
   "execution_count": 25,
   "id": "a83d6b31-f0ee-4f3c-908c-0a6824cffc7a",
   "metadata": {},
   "outputs": [],
   "source": [
    "df_servicios_marzo.columns = nuevos_nombres\n",
    "df_servicios_mayo.columns = nuevos_nombres\n",
    "df_servicios_junio.columns = nuevos_nombres\n",
    "df_servicios_julio.columns = nuevos_nombres\n",
    "df_servicios_agosto.columns = nuevos_nombres\n",
    "df_servicios_septiembre.columns = nuevos_nombres\n",
    "df_servicios_octubre.columns = nuevos_nombres\n",
    "df_servicios_noviembre.columns = nuevos_nombres\n",
    "df_servicios_diciembre.columns = nuevos_nombres\n"
   ]
  },
  {
   "cell_type": "code",
   "execution_count": 26,
   "id": "9ef8bb52-a1c5-4368-9011-7db2b2a7c197",
   "metadata": {},
   "outputs": [],
   "source": [
    "df_servicios_2017 = pd.concat([df_servicios_marzo,df_servicios_mayo,df_servicios_junio,df_servicios_julio,df_servicios_agosto,df_servicios_septiembre,df_servicios_octubre,df_servicios_noviembre,df_servicios_diciembre])"
   ]
  },
  {
   "cell_type": "code",
   "execution_count": 27,
   "id": "95137291-c9ab-4c1c-84d4-bd37321096f7",
   "metadata": {},
   "outputs": [
    {
     "data": {
      "text/html": [
       "<div>\n",
       "<style scoped>\n",
       "    .dataframe tbody tr th:only-of-type {\n",
       "        vertical-align: middle;\n",
       "    }\n",
       "\n",
       "    .dataframe tbody tr th {\n",
       "        vertical-align: top;\n",
       "    }\n",
       "\n",
       "    .dataframe thead th {\n",
       "        text-align: right;\n",
       "    }\n",
       "</style>\n",
       "<table border=\"1\" class=\"dataframe\">\n",
       "  <thead>\n",
       "    <tr style=\"text-align: right;\">\n",
       "      <th></th>\n",
       "      <th>PROV</th>\n",
       "      <th>BENEFICIARIO</th>\n",
       "      <th>RFC</th>\n",
       "      <th>NUM FACT</th>\n",
       "      <th>CONTRATO</th>\n",
       "      <th>DESCRIPCION</th>\n",
       "      <th>TIPO OP</th>\n",
       "      <th>BCO-OP</th>\n",
       "      <th>FECH EMI</th>\n",
       "      <th>IMPORTE</th>\n",
       "      <th>SHEET</th>\n",
       "    </tr>\n",
       "  </thead>\n",
       "  <tbody>\n",
       "    <tr>\n",
       "      <th>0</th>\n",
       "      <td>115584</td>\n",
       "      <td>FITCH MEXICO,S.A.DE C.V.</td>\n",
       "      <td>FME980717NN8</td>\n",
       "      <td>8219-153006-2344</td>\n",
       "      <td>TES-048-2013</td>\n",
       "      <td>EJE SERVICIO DE CALIFICACION CREDITICIA SOBRE ...</td>\n",
       "      <td>TR</td>\n",
       "      <td>1007058.0</td>\n",
       "      <td>2017-03-21</td>\n",
       "      <td>276229.66</td>\n",
       "      <td>SERVICIOS</td>\n",
       "    </tr>\n",
       "    <tr>\n",
       "      <th>1</th>\n",
       "      <td>Total 115584</td>\n",
       "      <td>NaN</td>\n",
       "      <td>NaN</td>\n",
       "      <td>NaN</td>\n",
       "      <td>NaN</td>\n",
       "      <td>NaN</td>\n",
       "      <td>NaN</td>\n",
       "      <td>NaN</td>\n",
       "      <td>NaT</td>\n",
       "      <td>276229.66</td>\n",
       "      <td>SERVICIOS</td>\n",
       "    </tr>\n",
       "    <tr>\n",
       "      <th>2</th>\n",
       "      <td>115313</td>\n",
       "      <td>ESCAMILLA GUTIERREZ ZENON MARGARITO</td>\n",
       "      <td>EAGZ620917R77</td>\n",
       "      <td>60-153006-2559</td>\n",
       "      <td>SPC-037-14</td>\n",
       "      <td>EJE SUFICIENCIA PRESUPUESTAL PARA LA CONTRATAC...</td>\n",
       "      <td>TR</td>\n",
       "      <td>1007069.0</td>\n",
       "      <td>2017-03-22</td>\n",
       "      <td>222720.00</td>\n",
       "      <td>SERVICIOS</td>\n",
       "    </tr>\n",
       "    <tr>\n",
       "      <th>3</th>\n",
       "      <td>115313</td>\n",
       "      <td>ESCAMILLA GUTIERREZ ZENON MARGARITO</td>\n",
       "      <td>EAGZ620917R77</td>\n",
       "      <td>859-153006-2261</td>\n",
       "      <td>NO APLICA</td>\n",
       "      <td>EJE SERVICIOS DE MONITOREO DE MEDIOS DE COMUNI...</td>\n",
       "      <td>TR</td>\n",
       "      <td>1007069.0</td>\n",
       "      <td>2017-03-22</td>\n",
       "      <td>37120.00</td>\n",
       "      <td>SERVICIOS</td>\n",
       "    </tr>\n",
       "    <tr>\n",
       "      <th>4</th>\n",
       "      <td>Total 115313</td>\n",
       "      <td>NaN</td>\n",
       "      <td>NaN</td>\n",
       "      <td>NaN</td>\n",
       "      <td>NaN</td>\n",
       "      <td>NaN</td>\n",
       "      <td>NaN</td>\n",
       "      <td>NaN</td>\n",
       "      <td>NaT</td>\n",
       "      <td>259840.00</td>\n",
       "      <td>SERVICIOS</td>\n",
       "    </tr>\n",
       "  </tbody>\n",
       "</table>\n",
       "</div>"
      ],
      "text/plain": [
       "           PROV                         BENEFICIARIO            RFC  \\\n",
       "0        115584             FITCH MEXICO,S.A.DE C.V.   FME980717NN8   \n",
       "1  Total 115584                                  NaN            NaN   \n",
       "2        115313  ESCAMILLA GUTIERREZ ZENON MARGARITO  EAGZ620917R77   \n",
       "3        115313  ESCAMILLA GUTIERREZ ZENON MARGARITO  EAGZ620917R77   \n",
       "4  Total 115313                                  NaN            NaN   \n",
       "\n",
       "           NUM FACT      CONTRATO  \\\n",
       "0  8219-153006-2344  TES-048-2013   \n",
       "1               NaN           NaN   \n",
       "2    60-153006-2559    SPC-037-14   \n",
       "3   859-153006-2261     NO APLICA   \n",
       "4               NaN           NaN   \n",
       "\n",
       "                                         DESCRIPCION TIPO OP     BCO-OP  \\\n",
       "0  EJE SERVICIO DE CALIFICACION CREDITICIA SOBRE ...      TR  1007058.0   \n",
       "1                                                NaN     NaN        NaN   \n",
       "2  EJE SUFICIENCIA PRESUPUESTAL PARA LA CONTRATAC...      TR  1007069.0   \n",
       "3  EJE SERVICIOS DE MONITOREO DE MEDIOS DE COMUNI...      TR  1007069.0   \n",
       "4                                                NaN     NaN        NaN   \n",
       "\n",
       "    FECH EMI    IMPORTE      SHEET  \n",
       "0 2017-03-21  276229.66  SERVICIOS  \n",
       "1        NaT  276229.66  SERVICIOS  \n",
       "2 2017-03-22  222720.00  SERVICIOS  \n",
       "3 2017-03-22   37120.00  SERVICIOS  \n",
       "4        NaT  259840.00  SERVICIOS  "
      ]
     },
     "execution_count": 27,
     "metadata": {},
     "output_type": "execute_result"
    }
   ],
   "source": [
    "df_servicios_2017['SHEET'] = 'SERVICIOS'\n",
    "df_servicios_2017.head(5)"
   ]
  },
  {
   "cell_type": "code",
   "execution_count": 28,
   "id": "65070372-7f03-4f77-86c2-cad07656715b",
   "metadata": {},
   "outputs": [],
   "source": [
    "# Cargamos la hoja de Comunicacion de todos los meses de 2017\n",
    "\n",
    "df_comunicacion_marzo = pd.read_excel('PAGOS_MARZO_2017.xlsx',sheet_name='COMUNICACION',skiprows=5)\n",
    "df_comunicacion_abril = pd.read_excel('PAGOS_ABRIL_2017.xlsx',sheet_name='COMUNICACION',skiprows=5)\n",
    "df_comunicacion_mayo = pd.read_excel('PAGOS MAYO 2017.xlsx',sheet_name='COMUNICACION',skiprows=5)\n",
    "df_comunicacion_junio = pd.read_excel('PAGOS JUNIO 2017.xlsx',sheet_name='COMUNICACION',skiprows=5)\n",
    "df_comunicacion_julio = pd.read_excel('PAGOS JULIO 2017.xlsx',sheet_name='COMINICACION',skiprows=5)\n",
    "df_comunicacion_agosto = pd.read_excel('PAGOS AGOSTO 2017.xlsx',sheet_name='COMUNICACION',skiprows=5)\n",
    "df_comunicacion_septiembre = pd.read_excel('PAGOS SEPTIEMBRE 2017.xlsx',sheet_name='COMUNICACION',skiprows=5)\n",
    "df_comunicacion_octubre = pd.read_excel('PAGOS OCTUBRE 2017.xlsx',sheet_name='COMUNICACION',skiprows=5)\n",
    "df_comunicacion_noviembre = pd.read_excel('PAGOS_NOVIEMBRE_2017.xlsx',sheet_name='COMUNIC',skiprows=5)\n",
    "df_comunicacion_diciembre = pd.read_excel('PAGOS DICIEMBRE 2017.xlsx',sheet_name='COMUNICACION',skiprows=5)\n"
   ]
  },
  {
   "cell_type": "code",
   "execution_count": 29,
   "id": "87b9a1d5-af2c-4a47-ac9a-f19554ba9d5a",
   "metadata": {},
   "outputs": [],
   "source": [
    "df_comunicacion_marzo.columns = nuevos_nombres\n",
    "df_comunicacion_abril.columns = nuevos_nombres\n",
    "df_comunicacion_mayo.columns = nuevos_nombres\n",
    "df_comunicacion_junio.columns = nuevos_nombres\n",
    "df_comunicacion_julio.columns = nuevos_nombres\n",
    "df_comunicacion_agosto.columns = nuevos_nombres\n",
    "df_comunicacion_septiembre.columns = nuevos_nombres\n",
    "df_comunicacion_octubre.columns = nuevos_nombres\n",
    "df_comunicacion_noviembre.columns = nuevos_nombres\n",
    "df_comunicacion_diciembre.columns = nuevos_nombres"
   ]
  },
  {
   "cell_type": "code",
   "execution_count": 30,
   "id": "f73e0e97-0ae1-40c1-a5c8-9d37584ce733",
   "metadata": {},
   "outputs": [],
   "source": [
    "df_comunicacion_2017 = pd.concat([df_comunicacion_marzo,df_comunicacion_abril,df_comunicacion_mayo,df_comunicacion_junio,df_comunicacion_julio,df_comunicacion_agosto,df_comunicacion_septiembre,df_comunicacion_octubre,df_comunicacion_noviembre,df_comunicacion_diciembre])"
   ]
  },
  {
   "cell_type": "code",
   "execution_count": 31,
   "id": "46975b8e-dfd3-48b2-8c1e-459c0dec9a96",
   "metadata": {},
   "outputs": [
    {
     "data": {
      "text/html": [
       "<div>\n",
       "<style scoped>\n",
       "    .dataframe tbody tr th:only-of-type {\n",
       "        vertical-align: middle;\n",
       "    }\n",
       "\n",
       "    .dataframe tbody tr th {\n",
       "        vertical-align: top;\n",
       "    }\n",
       "\n",
       "    .dataframe thead th {\n",
       "        text-align: right;\n",
       "    }\n",
       "</style>\n",
       "<table border=\"1\" class=\"dataframe\">\n",
       "  <thead>\n",
       "    <tr style=\"text-align: right;\">\n",
       "      <th></th>\n",
       "      <th>PROV</th>\n",
       "      <th>BENEFICIARIO</th>\n",
       "      <th>RFC</th>\n",
       "      <th>NUM FACT</th>\n",
       "      <th>CONTRATO</th>\n",
       "      <th>DESCRIPCION</th>\n",
       "      <th>TIPO OP</th>\n",
       "      <th>BCO-OP</th>\n",
       "      <th>FECH EMI</th>\n",
       "      <th>IMPORTE</th>\n",
       "      <th>SHEET</th>\n",
       "    </tr>\n",
       "  </thead>\n",
       "  <tbody>\n",
       "    <tr>\n",
       "      <th>0</th>\n",
       "      <td>114878</td>\n",
       "      <td>RTV &amp; PRESS NEWS,S.A.DE C.V</td>\n",
       "      <td>R&amp;P990419G42</td>\n",
       "      <td>, 525-158003-770</td>\n",
       "      <td>OEP-024-2016</td>\n",
       "      <td>BANNER PUBLICITARIO EN NUESTRO SITIO WWW.LOSPO...</td>\n",
       "      <td>TR</td>\n",
       "      <td>1007114.0</td>\n",
       "      <td>2017-03-28</td>\n",
       "      <td>29000.0</td>\n",
       "      <td>COMUNICACION</td>\n",
       "    </tr>\n",
       "    <tr>\n",
       "      <th>1</th>\n",
       "      <td>Total 114878</td>\n",
       "      <td>NaN</td>\n",
       "      <td>NaN</td>\n",
       "      <td>NaN</td>\n",
       "      <td>NaN</td>\n",
       "      <td>NaN</td>\n",
       "      <td>NaN</td>\n",
       "      <td>NaN</td>\n",
       "      <td>NaT</td>\n",
       "      <td>29000.0</td>\n",
       "      <td>COMUNICACION</td>\n",
       "    </tr>\n",
       "    <tr>\n",
       "      <th>2</th>\n",
       "      <td>115189</td>\n",
       "      <td>TV DE LOS MOCHIS,S.A.DE C.V.</td>\n",
       "      <td>TVM851118SK3</td>\n",
       "      <td>, 58583-158003-708</td>\n",
       "      <td>OEP-036-2016</td>\n",
       "      <td>SERVICIO DE TRANSMISION DE 32 SPOT DEL 7 AL 11...</td>\n",
       "      <td>TR</td>\n",
       "      <td>1007088.0</td>\n",
       "      <td>2017-03-24</td>\n",
       "      <td>206016.0</td>\n",
       "      <td>COMUNICACION</td>\n",
       "    </tr>\n",
       "    <tr>\n",
       "      <th>3</th>\n",
       "      <td>115189</td>\n",
       "      <td>TV DE LOS MOCHIS,S.A.DE C.V.</td>\n",
       "      <td>TVM851118SK3</td>\n",
       "      <td>, 58584-158003-707</td>\n",
       "      <td>OEP-036-2016</td>\n",
       "      <td>SERVICIO DE TRANSMISION DE 15 SPOT DEL 13 AL 1...</td>\n",
       "      <td>TR</td>\n",
       "      <td>1007088.0</td>\n",
       "      <td>2017-03-24</td>\n",
       "      <td>88856.0</td>\n",
       "      <td>COMUNICACION</td>\n",
       "    </tr>\n",
       "    <tr>\n",
       "      <th>4</th>\n",
       "      <td>115189</td>\n",
       "      <td>TV DE LOS MOCHIS,S.A.DE C.V.</td>\n",
       "      <td>TVM851118SK3</td>\n",
       "      <td>, 58585-158003-705</td>\n",
       "      <td>OEP-036-2016</td>\n",
       "      <td>SERVICIO DE TRANSMISION DE 116 SPOT DEL 5 AL 2...</td>\n",
       "      <td>TR</td>\n",
       "      <td>1007088.0</td>\n",
       "      <td>2017-03-24</td>\n",
       "      <td>689504.0</td>\n",
       "      <td>COMUNICACION</td>\n",
       "    </tr>\n",
       "  </tbody>\n",
       "</table>\n",
       "</div>"
      ],
      "text/plain": [
       "           PROV                  BENEFICIARIO           RFC  \\\n",
       "0        114878   RTV & PRESS NEWS,S.A.DE C.V  R&P990419G42   \n",
       "1  Total 114878                           NaN           NaN   \n",
       "2        115189  TV DE LOS MOCHIS,S.A.DE C.V.  TVM851118SK3   \n",
       "3        115189  TV DE LOS MOCHIS,S.A.DE C.V.  TVM851118SK3   \n",
       "4        115189  TV DE LOS MOCHIS,S.A.DE C.V.  TVM851118SK3   \n",
       "\n",
       "             NUM FACT      CONTRATO  \\\n",
       "0    , 525-158003-770  OEP-024-2016   \n",
       "1                 NaN           NaN   \n",
       "2  , 58583-158003-708  OEP-036-2016   \n",
       "3  , 58584-158003-707  OEP-036-2016   \n",
       "4  , 58585-158003-705  OEP-036-2016   \n",
       "\n",
       "                                         DESCRIPCION TIPO OP     BCO-OP  \\\n",
       "0  BANNER PUBLICITARIO EN NUESTRO SITIO WWW.LOSPO...      TR  1007114.0   \n",
       "1                                                NaN     NaN        NaN   \n",
       "2  SERVICIO DE TRANSMISION DE 32 SPOT DEL 7 AL 11...      TR  1007088.0   \n",
       "3  SERVICIO DE TRANSMISION DE 15 SPOT DEL 13 AL 1...      TR  1007088.0   \n",
       "4  SERVICIO DE TRANSMISION DE 116 SPOT DEL 5 AL 2...      TR  1007088.0   \n",
       "\n",
       "    FECH EMI   IMPORTE         SHEET  \n",
       "0 2017-03-28   29000.0  COMUNICACION  \n",
       "1        NaT   29000.0  COMUNICACION  \n",
       "2 2017-03-24  206016.0  COMUNICACION  \n",
       "3 2017-03-24   88856.0  COMUNICACION  \n",
       "4 2017-03-24  689504.0  COMUNICACION  "
      ]
     },
     "execution_count": 31,
     "metadata": {},
     "output_type": "execute_result"
    }
   ],
   "source": [
    "df_comunicacion_2017['SHEET'] = 'COMUNICACION'\n",
    "df_comunicacion_2017.head(5)"
   ]
  },
  {
   "cell_type": "code",
   "execution_count": 32,
   "id": "ebee901f-d814-4c22-81b1-ebb65c6d5931",
   "metadata": {},
   "outputs": [],
   "source": [
    "# Cargamos la hoja de Servicios Personales de todos los meses de 2017\n",
    "\n",
    "df_personales_enero = pd.read_excel('PAGOS_ENERO_2017.xlsx',sheet_name='SERV PERS',skiprows=5)\n",
    "df_personales_febrero = pd.read_excel('PAGOS_FEBRERO_2017.xlsx',sheet_name='SERV PERS',skiprows=5)\n",
    "df_personales_marzo = pd.read_excel('PAGOS_MARZO_2017.xlsx',sheet_name='SERV PERS',skiprows=5)\n",
    "df_personales_abril = pd.read_excel('PAGOS_ABRIL_2017.xlsx',sheet_name='SERV PERS',skiprows=5)\n",
    "df_personales_mayo = pd.read_excel('PAGOS MAYO 2017.xlsx',sheet_name='SERV PERS',skiprows=5)\n",
    "df_personales_junio = pd.read_excel('PAGOS JUNIO 2017.xlsx',sheet_name='SERV PERS',skiprows=5)\n",
    "df_personales_julio = pd.read_excel('PAGOS JULIO 2017.xlsx',sheet_name='SERV PERS',skiprows=5)\n",
    "df_personales_agosto = pd.read_excel('PAGOS AGOSTO 2017.xlsx',sheet_name='SERV PERS',skiprows=5)\n",
    "df_personales_septiembre = pd.read_excel('PAGOS SEPTIEMBRE 2017.xlsx',sheet_name='SERV PERS',skiprows=5)\n",
    "df_personales_octubre = pd.read_excel('PAGOS OCTUBRE 2017.xlsx',sheet_name='SERV PERS',skiprows=5)\n",
    "df_personales_noviembre = pd.read_excel('PAGOS_NOVIEMBRE_2017.xlsx',sheet_name='SERV PERS',skiprows=5)\n",
    "df_personales_diciembre = pd.read_excel('PAGOS DICIEMBRE 2017.xlsx',sheet_name='SERV PERS',skiprows=5)"
   ]
  },
  {
   "cell_type": "code",
   "execution_count": 33,
   "id": "58790582-bee8-49c0-9cb8-659ab91bd6f7",
   "metadata": {},
   "outputs": [],
   "source": [
    "df_personales_enero.columns = nuevos_nombres\n",
    "df_personales_febrero.columns = nuevos_nombres\n",
    "df_personales_marzo.columns = nuevos_nombres\n",
    "\n",
    "df_personales_abril.columns = nuevos_nombres"
   ]
  },
  {
   "cell_type": "code",
   "execution_count": 34,
   "id": "b030912e-289d-4ef6-845d-4f2e6705cad1",
   "metadata": {
    "tags": []
   },
   "outputs": [],
   "source": [
    "# df_personales_mayo.head(10)"
   ]
  },
  {
   "cell_type": "code",
   "execution_count": 35,
   "id": "10d3a9b9-7273-4286-b0ec-13d4187f3a6a",
   "metadata": {},
   "outputs": [
    {
     "data": {
      "text/plain": [
       "Index(['PROV', 'BENEFICIARIO', 'RFC', 'FACT-NUE-FO',\n",
       "       'CONTRATO                                O                               ASIGNACION',\n",
       "       'CONCEPTO', 'TIPO                  OP', 'FDO             NUM OP',\n",
       "       'FECHA                         PAGO', 'TOTAL EGRESO'],\n",
       "      dtype='object')"
      ]
     },
     "execution_count": 35,
     "metadata": {},
     "output_type": "execute_result"
    }
   ],
   "source": [
    "# df_personales_mayo.drop(columns=['Unnamed: 10'], inplace=True)\n",
    "df_personales_mayo.columns"
   ]
  },
  {
   "cell_type": "code",
   "execution_count": 36,
   "id": "52830224-71f4-4432-a7a0-09775d768e23",
   "metadata": {},
   "outputs": [],
   "source": [
    "df_personales_mayo.columns = nuevos_nombres\n",
    "df_personales_junio.columns = nuevos_nombres\n",
    "df_personales_julio.columns = nuevos_nombres\n",
    "df_personales_agosto.columns = nuevos_nombres\n",
    "df_personales_septiembre.columns = nuevos_nombres\n",
    "df_personales_octubre.columns = nuevos_nombres\n",
    "df_personales_noviembre.columns = nuevos_nombres\n",
    "df_personales_diciembre.columns = nuevos_nombres"
   ]
  },
  {
   "cell_type": "code",
   "execution_count": 37,
   "id": "2b155bdc-dfa0-4ffb-9b35-3a98cb5f270e",
   "metadata": {},
   "outputs": [],
   "source": [
    "df_personales_2017 = pd.concat([df_personales_enero,df_personales_febrero,df_personales_marzo,df_personales_abril,df_personales_mayo,df_personales_junio,df_personales_julio,df_personales_agosto,df_personales_septiembre,df_personales_octubre,df_personales_noviembre,df_personales_diciembre])"
   ]
  },
  {
   "cell_type": "code",
   "execution_count": 38,
   "id": "21977504-eef7-477d-9387-73aab6ea9d76",
   "metadata": {},
   "outputs": [
    {
     "data": {
      "text/html": [
       "<div>\n",
       "<style scoped>\n",
       "    .dataframe tbody tr th:only-of-type {\n",
       "        vertical-align: middle;\n",
       "    }\n",
       "\n",
       "    .dataframe tbody tr th {\n",
       "        vertical-align: top;\n",
       "    }\n",
       "\n",
       "    .dataframe thead th {\n",
       "        text-align: right;\n",
       "    }\n",
       "</style>\n",
       "<table border=\"1\" class=\"dataframe\">\n",
       "  <thead>\n",
       "    <tr style=\"text-align: right;\">\n",
       "      <th></th>\n",
       "      <th>PROV</th>\n",
       "      <th>BENEFICIARIO</th>\n",
       "      <th>RFC</th>\n",
       "      <th>NUM FACT</th>\n",
       "      <th>CONTRATO</th>\n",
       "      <th>DESCRIPCION</th>\n",
       "      <th>TIPO OP</th>\n",
       "      <th>BCO-OP</th>\n",
       "      <th>FECH EMI</th>\n",
       "      <th>IMPORTE</th>\n",
       "      <th>SHEET</th>\n",
       "    </tr>\n",
       "  </thead>\n",
       "  <tbody>\n",
       "    <tr>\n",
       "      <th>0</th>\n",
       "      <td>203013</td>\n",
       "      <td>BAUTISTA HERNANDEZ MIGUEL</td>\n",
       "      <td>NO APLICA</td>\n",
       "      <td>42437.0</td>\n",
       "      <td>NO APLICA</td>\n",
       "      <td>FINIQ LAB SEG JUI CONTEN ADM 1267/2015</td>\n",
       "      <td>CH</td>\n",
       "      <td>1094712.0</td>\n",
       "      <td>2017-01-30</td>\n",
       "      <td>87281.48</td>\n",
       "      <td>PERSONALES</td>\n",
       "    </tr>\n",
       "    <tr>\n",
       "      <th>1</th>\n",
       "      <td>203013</td>\n",
       "      <td>CHAVEZ MARTINEZ JUAN JESUS</td>\n",
       "      <td>NO APLICA</td>\n",
       "      <td>19280.0</td>\n",
       "      <td>NO APLICA</td>\n",
       "      <td>19280/FINIQ JUICIO CONTEN ADMOVO 439/2009</td>\n",
       "      <td>CH</td>\n",
       "      <td>1094680.0</td>\n",
       "      <td>2017-01-11</td>\n",
       "      <td>65274.60</td>\n",
       "      <td>PERSONALES</td>\n",
       "    </tr>\n",
       "    <tr>\n",
       "      <th>2</th>\n",
       "      <td>203013</td>\n",
       "      <td>DE LA VEGA DOMINGUEZ ANTONIO</td>\n",
       "      <td>NO APLICA</td>\n",
       "      <td>84795.0</td>\n",
       "      <td>NO APLICA</td>\n",
       "      <td>FINIQ LAB SEG JUI CONTEN ADM 1267/2015</td>\n",
       "      <td>CH</td>\n",
       "      <td>1094711.0</td>\n",
       "      <td>2017-01-30</td>\n",
       "      <td>145491.05</td>\n",
       "      <td>PERSONALES</td>\n",
       "    </tr>\n",
       "    <tr>\n",
       "      <th>3</th>\n",
       "      <td>203013</td>\n",
       "      <td>DE LEON TORRES RIGOBERTO ABDY</td>\n",
       "      <td>NO APLICA</td>\n",
       "      <td>23620.0</td>\n",
       "      <td>NO APLICA</td>\n",
       "      <td>23260/FINIQ LABORAL</td>\n",
       "      <td>CH</td>\n",
       "      <td>1094679.0</td>\n",
       "      <td>2017-01-11</td>\n",
       "      <td>84447.88</td>\n",
       "      <td>PERSONALES</td>\n",
       "    </tr>\n",
       "    <tr>\n",
       "      <th>4</th>\n",
       "      <td>203013</td>\n",
       "      <td>GARCIA GORDILLO GABRIEL</td>\n",
       "      <td>NO APLICA</td>\n",
       "      <td>103713.0</td>\n",
       "      <td>NO APLICA</td>\n",
       "      <td>FINIQ JUI AMPARO 593/2015</td>\n",
       "      <td>CH</td>\n",
       "      <td>1094699.0</td>\n",
       "      <td>2017-01-25</td>\n",
       "      <td>323315.02</td>\n",
       "      <td>PERSONALES</td>\n",
       "    </tr>\n",
       "  </tbody>\n",
       "</table>\n",
       "</div>"
      ],
      "text/plain": [
       "     PROV                   BENEFICIARIO        RFC  NUM FACT   CONTRATO  \\\n",
       "0  203013      BAUTISTA HERNANDEZ MIGUEL  NO APLICA   42437.0  NO APLICA   \n",
       "1  203013     CHAVEZ MARTINEZ JUAN JESUS  NO APLICA   19280.0  NO APLICA   \n",
       "2  203013   DE LA VEGA DOMINGUEZ ANTONIO  NO APLICA   84795.0  NO APLICA   \n",
       "3  203013  DE LEON TORRES RIGOBERTO ABDY  NO APLICA   23620.0  NO APLICA   \n",
       "4  203013        GARCIA GORDILLO GABRIEL  NO APLICA  103713.0  NO APLICA   \n",
       "\n",
       "                                 DESCRIPCION TIPO OP     BCO-OP   FECH EMI  \\\n",
       "0     FINIQ LAB SEG JUI CONTEN ADM 1267/2015      CH  1094712.0 2017-01-30   \n",
       "1  19280/FINIQ JUICIO CONTEN ADMOVO 439/2009      CH  1094680.0 2017-01-11   \n",
       "2     FINIQ LAB SEG JUI CONTEN ADM 1267/2015      CH  1094711.0 2017-01-30   \n",
       "3                        23260/FINIQ LABORAL      CH  1094679.0 2017-01-11   \n",
       "4                  FINIQ JUI AMPARO 593/2015      CH  1094699.0 2017-01-25   \n",
       "\n",
       "     IMPORTE       SHEET  \n",
       "0   87281.48  PERSONALES  \n",
       "1   65274.60  PERSONALES  \n",
       "2  145491.05  PERSONALES  \n",
       "3   84447.88  PERSONALES  \n",
       "4  323315.02  PERSONALES  "
      ]
     },
     "execution_count": 38,
     "metadata": {},
     "output_type": "execute_result"
    }
   ],
   "source": [
    "df_personales_2017['SHEET'] = 'PERSONALES'\n",
    "df_personales_2017.head(5)"
   ]
  },
  {
   "cell_type": "code",
   "execution_count": 39,
   "id": "867998d8-28de-4550-93b6-3a1ea9ef6170",
   "metadata": {},
   "outputs": [],
   "source": [
    "df_compras_2017 = pd.concat([df_contratistas_2017,df_gastos_2017,df_servicios_2017,df_comunicacion_2017,df_personales_2017])"
   ]
  },
  {
   "cell_type": "code",
   "execution_count": 40,
   "id": "1c11bd30-232a-41e5-8280-23d5447436c9",
   "metadata": {},
   "outputs": [
    {
     "data": {
      "text/html": [
       "<div>\n",
       "<style scoped>\n",
       "    .dataframe tbody tr th:only-of-type {\n",
       "        vertical-align: middle;\n",
       "    }\n",
       "\n",
       "    .dataframe tbody tr th {\n",
       "        vertical-align: top;\n",
       "    }\n",
       "\n",
       "    .dataframe thead th {\n",
       "        text-align: right;\n",
       "    }\n",
       "</style>\n",
       "<table border=\"1\" class=\"dataframe\">\n",
       "  <thead>\n",
       "    <tr style=\"text-align: right;\">\n",
       "      <th></th>\n",
       "      <th>PROV</th>\n",
       "      <th>BENEFICIARIO</th>\n",
       "      <th>RFC</th>\n",
       "      <th>NUM FACT</th>\n",
       "      <th>CONTRATO</th>\n",
       "      <th>DESCRIPCION</th>\n",
       "      <th>TIPO OP</th>\n",
       "      <th>BCO-OP</th>\n",
       "      <th>FECH EMI</th>\n",
       "      <th>IMPORTE</th>\n",
       "      <th>SHEET</th>\n",
       "    </tr>\n",
       "  </thead>\n",
       "  <tbody>\n",
       "    <tr>\n",
       "      <th>0</th>\n",
       "      <td>123629</td>\n",
       "      <td>PAVIMENTACIONES, CAMINOS Y COMPACTACIONES, S.A...</td>\n",
       "      <td>PCC890216TG1</td>\n",
       "      <td>B4668</td>\n",
       "      <td>SOP/697/2016</td>\n",
       "      <td>EJE RP-2016 (GONZALITOS) EST. 18E OP-R23-01/16...</td>\n",
       "      <td>TR</td>\n",
       "      <td>225000024.0</td>\n",
       "      <td>2017-01-09 00:00:00</td>\n",
       "      <td>7859725.14</td>\n",
       "      <td>CONTRATISTAS</td>\n",
       "    </tr>\n",
       "    <tr>\n",
       "      <th>1</th>\n",
       "      <td>123629</td>\n",
       "      <td>PAVIMENTACIONES, CAMINOS Y COMPACTACIONES, S.A...</td>\n",
       "      <td>PCC890216TG1</td>\n",
       "      <td>B4669</td>\n",
       "      <td>SOP/697/2016</td>\n",
       "      <td>EJE RP-2016 (AV. ALMAZAN, AV. AARON SAENZ Y AV...</td>\n",
       "      <td>TR</td>\n",
       "      <td>225000024.0</td>\n",
       "      <td>2017-01-09 00:00:00</td>\n",
       "      <td>3152852.45</td>\n",
       "      <td>CONTRATISTAS</td>\n",
       "    </tr>\n",
       "    <tr>\n",
       "      <th>2</th>\n",
       "      <td>123629</td>\n",
       "      <td>PAVIMENTACIONES, CAMINOS Y COMPACTACIONES, S.A...</td>\n",
       "      <td>PCC890216TG1</td>\n",
       "      <td>B4725</td>\n",
       "      <td>SOP/697/2016</td>\n",
       "      <td>EJE RP-2016 (AV. ALMAZAN, AV. AARON SAENZ Y AV...</td>\n",
       "      <td>TR</td>\n",
       "      <td>225000024.0</td>\n",
       "      <td>2017-01-09 00:00:00</td>\n",
       "      <td>8763325.29</td>\n",
       "      <td>CONTRATISTAS</td>\n",
       "    </tr>\n",
       "    <tr>\n",
       "      <th>3</th>\n",
       "      <td>123629</td>\n",
       "      <td>PAVIMENTACIONES, CAMINOS Y COMPACTACIONES, S.A...</td>\n",
       "      <td>PCC890216TG1</td>\n",
       "      <td>B4734</td>\n",
       "      <td>SOP/697/2016</td>\n",
       "      <td>EJE RE-FDO-DES-MCIPAL-2016 (AV. FIDEL VELAZQUE...</td>\n",
       "      <td>TR</td>\n",
       "      <td>229000030.0</td>\n",
       "      <td>2017-01-09 00:00:00</td>\n",
       "      <td>1842839.12</td>\n",
       "      <td>CONTRATISTAS</td>\n",
       "    </tr>\n",
       "    <tr>\n",
       "      <th>4</th>\n",
       "      <td>123629</td>\n",
       "      <td>PAVIMENTACIONES, CAMINOS Y COMPACTACIONES, S.A...</td>\n",
       "      <td>PCC890216TG1</td>\n",
       "      <td>B4735</td>\n",
       "      <td>SOP/697/2016</td>\n",
       "      <td>EJE R23-2016 (PROG-REG) EST. 21E OP-R23-01/16-...</td>\n",
       "      <td>TR</td>\n",
       "      <td>239000001.0</td>\n",
       "      <td>2017-01-09 00:00:00</td>\n",
       "      <td>2281374.75</td>\n",
       "      <td>CONTRATISTAS</td>\n",
       "    </tr>\n",
       "  </tbody>\n",
       "</table>\n",
       "</div>"
      ],
      "text/plain": [
       "     PROV                                       BENEFICIARIO           RFC  \\\n",
       "0  123629  PAVIMENTACIONES, CAMINOS Y COMPACTACIONES, S.A...  PCC890216TG1   \n",
       "1  123629  PAVIMENTACIONES, CAMINOS Y COMPACTACIONES, S.A...  PCC890216TG1   \n",
       "2  123629  PAVIMENTACIONES, CAMINOS Y COMPACTACIONES, S.A...  PCC890216TG1   \n",
       "3  123629  PAVIMENTACIONES, CAMINOS Y COMPACTACIONES, S.A...  PCC890216TG1   \n",
       "4  123629  PAVIMENTACIONES, CAMINOS Y COMPACTACIONES, S.A...  PCC890216TG1   \n",
       "\n",
       "  NUM FACT      CONTRATO                                        DESCRIPCION  \\\n",
       "0    B4668  SOP/697/2016  EJE RP-2016 (GONZALITOS) EST. 18E OP-R23-01/16...   \n",
       "1    B4669  SOP/697/2016  EJE RP-2016 (AV. ALMAZAN, AV. AARON SAENZ Y AV...   \n",
       "2    B4725  SOP/697/2016  EJE RP-2016 (AV. ALMAZAN, AV. AARON SAENZ Y AV...   \n",
       "3    B4734  SOP/697/2016  EJE RE-FDO-DES-MCIPAL-2016 (AV. FIDEL VELAZQUE...   \n",
       "4    B4735  SOP/697/2016  EJE R23-2016 (PROG-REG) EST. 21E OP-R23-01/16-...   \n",
       "\n",
       "  TIPO OP       BCO-OP             FECH EMI     IMPORTE         SHEET  \n",
       "0      TR  225000024.0  2017-01-09 00:00:00  7859725.14  CONTRATISTAS  \n",
       "1      TR  225000024.0  2017-01-09 00:00:00  3152852.45  CONTRATISTAS  \n",
       "2      TR  225000024.0  2017-01-09 00:00:00  8763325.29  CONTRATISTAS  \n",
       "3      TR  229000030.0  2017-01-09 00:00:00  1842839.12  CONTRATISTAS  \n",
       "4      TR  239000001.0  2017-01-09 00:00:00  2281374.75  CONTRATISTAS  "
      ]
     },
     "execution_count": 40,
     "metadata": {},
     "output_type": "execute_result"
    }
   ],
   "source": [
    "df_compras_2017.head(5)"
   ]
  },
  {
   "cell_type": "code",
   "execution_count": 41,
   "id": "b6630195-9b8f-47dd-bca9-383ab9e0dab5",
   "metadata": {},
   "outputs": [
    {
     "data": {
      "text/plain": [
       "20244"
      ]
     },
     "execution_count": 41,
     "metadata": {},
     "output_type": "execute_result"
    }
   ],
   "source": [
    "len(df_compras_2017)"
   ]
  },
  {
   "cell_type": "code",
   "execution_count": 42,
   "id": "f6c56924-35a8-43ca-9a4a-f860ffd7047f",
   "metadata": {},
   "outputs": [],
   "source": [
    "df_compras_2017_com = df_compras_2017.dropna(how='any')"
   ]
  },
  {
   "cell_type": "code",
   "execution_count": 43,
   "id": "02bb9d75-8713-45b4-9dd5-7a3ae9635625",
   "metadata": {},
   "outputs": [
    {
     "data": {
      "text/plain": [
       "17962"
      ]
     },
     "execution_count": 43,
     "metadata": {},
     "output_type": "execute_result"
    }
   ],
   "source": [
    "len(df_compras_2017_com)"
   ]
  },
  {
   "cell_type": "code",
   "execution_count": 44,
   "id": "626eb3b7-de88-4536-9831-27798867ad12",
   "metadata": {},
   "outputs": [
    {
     "data": {
      "text/plain": [
       "PROV             object\n",
       "BENEFICIARIO     object\n",
       "RFC              object\n",
       "NUM FACT         object\n",
       "CONTRATO         object\n",
       "DESCRIPCION      object\n",
       "TIPO OP          object\n",
       "BCO-OP          float64\n",
       "FECH EMI         object\n",
       "IMPORTE         float64\n",
       "SHEET            object\n",
       "dtype: object"
      ]
     },
     "execution_count": 44,
     "metadata": {},
     "output_type": "execute_result"
    }
   ],
   "source": [
    "df_compras_2017_com.dtypes"
   ]
  },
  {
   "cell_type": "code",
   "execution_count": 45,
   "id": "92b1cc10-9e80-40a9-b196-d2d32b6febfd",
   "metadata": {},
   "outputs": [],
   "source": [
    "# transformamos la columna Fecha Emision a tipo de dato Datetime\n",
    "df_compras_2017_com = df_compras_2017_com.copy()\n",
    "df_compras_2017_com.loc[:, 'FECH EMI'] = pd.to_datetime(df_compras_2017_com['FECH EMI'], errors='coerce')"
   ]
  },
  {
   "cell_type": "code",
   "execution_count": 46,
   "id": "4dccaffb-6449-42fa-88d8-f8820d180c36",
   "metadata": {},
   "outputs": [
    {
     "data": {
      "text/plain": [
       "FECH EMI\n",
       "2017    17583\n",
       "2016      320\n",
       "1970       59\n",
       "Name: count, dtype: int64"
      ]
     },
     "execution_count": 46,
     "metadata": {},
     "output_type": "execute_result"
    }
   ],
   "source": [
    "#Validamos que la columna solo tenga el año correspondiente 2017\n",
    "df_compras_2017_com['FECH EMI'].apply(lambda x: x.year).value_counts()"
   ]
  },
  {
   "cell_type": "code",
   "execution_count": 47,
   "id": "629abd5d-8705-4b7e-aa0e-80c9a5487e64",
   "metadata": {},
   "outputs": [
    {
     "name": "stdout",
     "output_type": "stream",
     "text": [
      "       PROV                                     BENEFICIARIO           RFC  \\\n",
      "8    115132  HOSPITAL SANTA CECILIA DE MONTERREY,S.A.DE C.V.  HSC021105D5A   \n",
      "9    115132  HOSPITAL SANTA CECILIA DE MONTERREY,S.A.DE C.V.  HSC021105D5A   \n",
      "10   115132  HOSPITAL SANTA CECILIA DE MONTERREY,S.A.DE C.V.  HSC021105D5A   \n",
      "11   115132  HOSPITAL SANTA CECILIA DE MONTERREY,S.A.DE C.V.  HSC021105D5A   \n",
      "12   115132  HOSPITAL SANTA CECILIA DE MONTERREY,S.A.DE C.V.  HSC021105D5A   \n",
      "..      ...                                              ...           ...   \n",
      "324  115317              GRUPO COMERCIAL MANIA, S.A. DE C.V.  GCM090205JF5   \n",
      "369  126656                VARGAS VELASQUEZ Y ASOCIADOS, SC.  VVA051111HF3   \n",
      "427  214873                         RAMOS DE LA GARZA RAFAEL     NO APLICA   \n",
      "428  214873                         RAMOS DE LA GARZA RAFAEL     NO APLICA   \n",
      "429  214873                       DIAZ FERNANDEZ JOSE CARLOS     NO APLICA   \n",
      "\n",
      "    NUM FACT    CONTRATO                                        DESCRIPCION  \\\n",
      "8      10360  SAD/069/10  EJE REFRENDO CONTRATO SAD-069-10, ATENCION HOS...   \n",
      "9      10376  SAD/069/10  EJE REFRENDO CONTRATO SAD-069-10, ATENCION HOS...   \n",
      "10     10379  SAD/069/10  EJE REFRENDO CONTRATO SAD-069-10, ATENCION HOS...   \n",
      "11     10384  SAD/069/10  EJE REFRENDO CONTRATO SAD-069-10, ATENCION HOS...   \n",
      "12     10387  SAD/069/10  EJE REFRENDO CONTRATO SAD-069-10, ATENCION HOS...   \n",
      "..       ...         ...                                                ...   \n",
      "324  MTY2422     OC14864                                      EJE ARENA # 5   \n",
      "369     1875   NO APLICA  EJE PAGO DEL SERVICIO NOTARIAL PARA DAR FE EN ...   \n",
      "427      BCO   NO APLICA                           INIC FDO OP OF EJECUTIVA   \n",
      "428      BCO   NO APLICA                         INIC FDO C CH OF EJECUTIVA   \n",
      "429      BCO   NO APLICA                          INCREM FDO OP DIR EGRESOS   \n",
      "\n",
      "    TIPO OP     BCO-OP             FECH EMI   IMPORTE          SHEET  \n",
      "8        TR  1006672.0  2016-01-06 00:00:00   6631.79  GASTOS VARIOS  \n",
      "9        TR  1006672.0  2016-01-06 00:00:00   1648.17  GASTOS VARIOS  \n",
      "10       TR  1006672.0  2016-01-06 00:00:00   4065.03  GASTOS VARIOS  \n",
      "11       TR  1006672.0  2016-01-06 00:00:00    652.05  GASTOS VARIOS  \n",
      "12       TR  1006672.0  2016-01-06 00:00:00   4315.95  GASTOS VARIOS  \n",
      "..      ...        ...                  ...       ...            ...  \n",
      "324      TR  1006673.0  2016-01-06 00:00:00  51875.20  GASTOS VARIOS  \n",
      "369      TR  1006674.0  2016-01-06 00:00:00  37120.00  GASTOS VARIOS  \n",
      "427      CH  1094673.0  2016-01-06 00:00:00  20000.00  GASTOS VARIOS  \n",
      "428      CH  1094674.0  2016-01-06 00:00:00  10000.00  GASTOS VARIOS  \n",
      "429      CH  1094675.0  2016-01-06 00:00:00  15000.00  GASTOS VARIOS  \n",
      "\n",
      "[320 rows x 11 columns]\n"
     ]
    }
   ],
   "source": [
    "# Validamos los registros que tienen 2016\n",
    "registros_2016 = df_compras_2017_com[df_compras_2017_com['FECH EMI'].apply(lambda x: x.year) == 2016]\n",
    "print(registros_2016)"
   ]
  },
  {
   "cell_type": "code",
   "execution_count": 48,
   "id": "e312b6af-79c0-4e03-bf85-ab5884be68d2",
   "metadata": {},
   "outputs": [
    {
     "data": {
      "text/plain": [
       "FECH EMI\n",
       "2017    17583\n",
       "1970       59\n",
       "Name: count, dtype: int64"
      ]
     },
     "execution_count": 48,
     "metadata": {},
     "output_type": "execute_result"
    }
   ],
   "source": [
    "#eliminamos los registros del año 2016 y validamos que solo queden del año 2017\n",
    "df_compras_2017_com = df_compras_2017_com[df_compras_2017_com['FECH EMI'].apply(lambda x: x.year) != 2016]\n",
    "df_compras_2017_com['FECH EMI'].apply(lambda x: x.year).value_counts()"
   ]
  },
  {
   "cell_type": "code",
   "execution_count": 49,
   "id": "1816cf44-e6aa-4037-a2cf-25c772e3871f",
   "metadata": {},
   "outputs": [
    {
     "name": "stdout",
     "output_type": "stream",
     "text": [
      " El volumen de la unidad C es Windows\n",
      " El número de serie del volumen es: 029C-D23D\n",
      "\n",
      " Directorio de C:\\Users\\DETPC\\EjerciciosPython\\InteligenciaArtificial\\Taller2\\datos\n",
      "\n",
      "16/10/2024  20:38    <DIR>          .\n",
      "16/10/2024  20:37    <DIR>          ..\n",
      "16/10/2024  20:38           148.869 PAGOS AGOSTO 2017.xlsx\n",
      "16/10/2024  20:38           370.470 PAGOS DICIEMBRE 2017.xlsx\n",
      "16/10/2024  20:38           130.487 PAGOS JULIO 2017.xlsx\n",
      "16/10/2024  20:38           200.216 PAGOS JUNIO 2017.xlsx\n",
      "16/10/2024  20:38           207.149 PAGOS MAYO 2017.xlsx\n",
      "16/10/2024  20:38           197.718 PAGOS OCTUBRE 2017.xlsx\n",
      "16/10/2024  20:38           196.926 PAGOS SEPTIEMBRE 2017.xlsx\n",
      "16/10/2024  20:38           104.929 PAGOS_ABRIL_2017.xlsx\n",
      "16/10/2024  20:38            51.457 PAGOS_ENERO_2017.xlsx\n",
      "16/10/2024  20:38            41.302 PAGOS_FEBRERO_2017.xlsx\n",
      "16/10/2024  20:38           167.758 PAGOS_MARZO_2017.xlsx\n",
      "16/10/2024  20:38           278.029 PAGOS_NOVIEMBRE_2017.xlsx\n",
      "              12 archivos      2.095.310 bytes\n",
      "               2 dirs  84.052.160.512 bytes libres\n"
     ]
    }
   ],
   "source": [
    "ls"
   ]
  },
  {
   "cell_type": "code",
   "execution_count": 50,
   "id": "b915de81-49b4-49bf-9ff2-f5355c0914e1",
   "metadata": {},
   "outputs": [],
   "source": [
    "df_compras_2017_com.to_csv('../data/clean_compras.csv', index=None)"
   ]
  },
  {
   "cell_type": "code",
   "execution_count": null,
   "id": "52a0954d-a691-423e-83b5-e82e0a5abe6f",
   "metadata": {},
   "outputs": [],
   "source": []
  }
 ],
 "metadata": {
  "kernelspec": {
   "display_name": "Python 3 (ipykernel)",
   "language": "python",
   "name": "python3"
  },
  "language_info": {
   "codemirror_mode": {
    "name": "ipython",
    "version": 3
   },
   "file_extension": ".py",
   "mimetype": "text/x-python",
   "name": "python",
   "nbconvert_exporter": "python",
   "pygments_lexer": "ipython3",
   "version": "3.11.7"
  }
 },
 "nbformat": 4,
 "nbformat_minor": 5
}
